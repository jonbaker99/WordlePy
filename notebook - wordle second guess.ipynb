{
 "cells": [
  {
   "cell_type": "code",
   "execution_count": 74,
   "metadata": {},
   "outputs": [],
   "source": [
    "# FIRST GENERATE ALL POSSIBLE COMBINATION OF X, A, G IN A 5-LETTER PATTERN\n",
    "\n",
    "from itertools import product\n",
    "\n",
    "def generate_all_feedback_patterns():\n",
    "    # Generate all possible combinations of X, A, G in a 5-letter pattern\n",
    "    feedback_states = ['X', 'A', 'G']\n",
    "    all_patterns = [''.join(pattern) for pattern in product(feedback_states, repeat=5)]\n",
    "    return all_patterns\n",
    "\n",
    "all_patterns = generate_all_feedback_patterns()"
   ]
  },
  {
   "cell_type": "code",
   "execution_count": 75,
   "metadata": {},
   "outputs": [],
   "source": [
    "import wordle_functions as wdl\n",
    "import tempfile\n",
    "import json\n",
    "import os\n",
    "\n"
   ]
  },
  {
   "cell_type": "code",
   "execution_count": 76,
   "metadata": {},
   "outputs": [
    {
     "name": "stdout",
     "output_type": "stream",
     "text": [
      "{'pattern1': 'criteria1'}\n"
     ]
    }
   ],
   "source": [
    "# Initialize an empty dictionary\n",
    "outcomes = {}\n",
    "\n",
    "# Define a pattern and criteria\n",
    "pattern = \"pattern1\"\n",
    "criteria = \"criteria1\"\n",
    "\n",
    "# Assign the criteria to the pattern in the outcomes dictionary\n",
    "outcomes[pattern] = criteria\n",
    "\n",
    "# Print the dictionary to see the result\n",
    "print(outcomes)"
   ]
  },
  {
   "cell_type": "code",
   "execution_count": 77,
   "metadata": {},
   "outputs": [
    {
     "name": "stdout",
     "output_type": "stream",
     "text": [
      "Key: person1, Value: {'name': 'John', 'details': {'age': 30, 'city': 'London'}}\n",
      "Key: person2, Value: {'name': 'Sarah', 'details': {'age': 25, 'city': 'Manchester'}}\n"
     ]
    }
   ],
   "source": [
    "nested_dict = {\n",
    "    \"person1\": {\n",
    "        \"name\": \"John\",\n",
    "        \"details\": {\n",
    "            \"age\": 30,\n",
    "            \"city\": \"London\"\n",
    "        }\n",
    "    },\n",
    "    \"person2\": {\n",
    "        \"name\": \"Sarah\",\n",
    "        \"details\": {\n",
    "            \"age\": 25,\n",
    "            \"city\": \"Manchester\"\n",
    "        }\n",
    "    }\n",
    "}\n",
    "\n",
    "for key, value in nested_dict.items():\n",
    "    print(f\"Key: {key}, Value: {value}\")"
   ]
  },
  {
   "cell_type": "code",
   "execution_count": 78,
   "metadata": {},
   "outputs": [
    {
     "name": "stdout",
     "output_type": "stream",
     "text": [
      "Pattern: XXXXX\n",
      "  exclusions: {'1st char': 'A', '2nd char': 'I'}\n",
      "  known_letters: -----\n",
      "  unlocated_letters_in_word: \n",
      "---\n",
      "Pattern: GXXXX\n"
     ]
    },
    {
     "ename": "KeyError",
     "evalue": "'criteria'",
     "output_type": "error",
     "traceback": [
      "\u001b[1;31m---------------------------------------------------------------------------\u001b[0m",
      "\u001b[1;31mKeyError\u001b[0m                                  Traceback (most recent call last)",
      "Cell \u001b[1;32mIn[78], line 35\u001b[0m\n\u001b[0;32m     32\u001b[0m \u001b[38;5;28mprint\u001b[39m(\u001b[38;5;124mf\u001b[39m\u001b[38;5;124m\"\u001b[39m\u001b[38;5;124mPattern: \u001b[39m\u001b[38;5;132;01m{\u001b[39;00mpattern\u001b[38;5;132;01m}\u001b[39;00m\u001b[38;5;124m\"\u001b[39m)\n\u001b[0;32m     34\u001b[0m \u001b[38;5;66;03m# Access criteria directly\u001b[39;00m\n\u001b[1;32m---> 35\u001b[0m criteria \u001b[38;5;241m=\u001b[39m \u001b[43mpattern_data\u001b[49m\u001b[43m[\u001b[49m\u001b[38;5;124;43m\"\u001b[39;49m\u001b[38;5;124;43mcriteria\u001b[39;49m\u001b[38;5;124;43m\"\u001b[39;49m\u001b[43m]\u001b[49m\n\u001b[0;32m     37\u001b[0m \u001b[38;5;66;03m# Loop through criteria items\u001b[39;00m\n\u001b[0;32m     38\u001b[0m \u001b[38;5;28;01mfor\u001b[39;00m criteria_key, criteria_value \u001b[38;5;129;01min\u001b[39;00m criteria\u001b[38;5;241m.\u001b[39mitems():\n",
      "\u001b[1;31mKeyError\u001b[0m: 'criteria'"
     ]
    }
   ],
   "source": [
    "# Our dictionary structure example\n",
    "outcomes = {\n",
    "    \"XXXXX\": {\n",
    "        \"criteria\": {\n",
    "            \"exclusions\": {\n",
    "                \"1st char\": \"A\",\n",
    "                \"2nd char\": \"I\"\n",
    "            },\n",
    "            \"known_letters\": \"-----\",\n",
    "            \"unlocated_letters_in_word\": \"\"\n",
    "        },\n",
    "        \"remaining_candidates\": {\n",
    "            \"count\": 42,\n",
    "            \"words\": [\"SLATE\", \"CRANE\"]\n",
    "        }\n",
    "    },\n",
    "    \"GXXXX\": {\n",
    "        # similar structure\n",
    "    }\n",
    "}\n",
    "# # For a specific pattern (e.g., \"XXXXX\")\n",
    "pattern = \"XXXXX\"\n",
    "criteria = outcomes[pattern][\"criteria\"]\n",
    "\n",
    "# # Now loop through just the criteria items\n",
    "# for criteria_key, criteria_value in criteria.items():\n",
    "#     print(f\"Key: {criteria_key}\")\n",
    "#     print(f\"Value: {criteria_value}\")\n",
    "#     print(\"---\")\n",
    "\n",
    "for pattern, pattern_data in outcomes.items():\n",
    "    print(f\"Pattern: {pattern}\")\n",
    "    \n",
    "    # Access criteria directly\n",
    "    criteria = pattern_data[\"criteria\"]\n",
    "    \n",
    "    # Loop through criteria items\n",
    "    for criteria_key, criteria_value in criteria.items():\n",
    "        print(f\"  {criteria_key}: {criteria_value}\")\n",
    "    \n",
    "    print(\"---\")"
   ]
  },
  {
   "cell_type": "code",
   "execution_count": null,
   "metadata": {},
   "outputs": [],
   "source": [
    "import wordle_functions as wdl, pandas as pd\n",
    "\n",
    "pattern_dict = json.load(open(\"aider_outcomes.json\"))\n",
    "word_list = pd.read_csv(\"word_list.csv\")\n",
    "\n",
    "pattern = \"XXXXX\"\n",
    "\n",
    "\n",
    "\n",
    "\n",
    "criteria = pattern_dict[pattern]\n",
    "\n",
    "candidate_list = wdl.wordle_filter(criteria, word_list)[\"WORD\"].tolist()\n",
    "candidate_count = len(candidate_list)\n",
    "\n",
    "candidates = {}\n",
    "candidates[pattern] = {\"candidates\": {\"list\": candidate_list, \"count\": candidate_count}}\n",
    "\n"
   ]
  },
  {
   "cell_type": "code",
   "execution_count": null,
   "metadata": {},
   "outputs": [],
   "source": [
    "counter = 0\n",
    "for pattern in pattern_dict:\n",
    "    counter += 1\n",
    "    print(f\"{counter} | Pattern: {pattern}\")\n",
    "    "
   ]
  },
  {
   "cell_type": "code",
   "execution_count": null,
   "metadata": {},
   "outputs": [],
   "source": [
    "def wordle_filter_debugged(inputs, word_list: pd.DataFrame):\n",
    "    \"\"\"\n",
    "    Applies all filtering criteria to get candidate words.\n",
    "    \"\"\"\n",
    "    known_letters = inputs['known_letters'].upper()\n",
    "    unlocated_letters = inputs['unlocated_letters_in_word'].upper()\n",
    "    exclusions = {k: v.upper() for k, v in inputs['exclusions'].items()}\n",
    "    letters_not_in_word = inputs['letters_not_in_word'].upper()\n",
    "    \n",
    "    candidates = word_list.copy()\n",
    "    print(\"Initial candidates - rows:\", len(candidates), \"columns:\", candidates.columns.tolist())\n",
    "    \n",
    "    if known_letters:\n",
    "        candidates = wdl.candidates_match_known(candidates, known_letters)\n",
    "        print(\"After candidates_match_known - rows:\", len(candidates), \"columns:\", candidates.columns.tolist())\n",
    "    \n",
    "    if any(bool(chars) for chars in exclusions.values()):\n",
    "        candidates = wdl.filter_words_by_exclusions(candidates, exclusions)\n",
    "        print(\"After filter_words_by_exclusions - rows:\", len(candidates), \"columns:\", candidates.columns.tolist())\n",
    "    \n",
    "    if unlocated_letters:\n",
    "        candidates = wdl.candidates_all_letters(candidates, known_letters, unlocated_letters)\n",
    "        print(\"After candidates_all_letters - rows:\", len(candidates), \"columns:\", candidates.columns.tolist())\n",
    "    \n",
    "    if letters_not_in_word:\n",
    "        candidates = wdl.candidates_ex_excluded(candidates, letters_not_in_word)\n",
    "        print(\"After candidates_ex_excluded - rows:\", len(candidates), \"columns:\", candidates.columns.tolist())\n",
    "    \n",
    "    return candidates"
   ]
  },
  {
   "cell_type": "code",
   "execution_count": null,
   "metadata": {},
   "outputs": [
    {
     "data": {
      "text/plain": [
       "<module 'wordle_functions' from 'c:\\\\Users\\\\JBA33\\\\OneDrive - Sky\\\\Documents\\\\python\\\\wordle\\\\WordlePy\\\\wordle_functions.py'>"
      ]
     },
     "execution_count": 42,
     "metadata": {},
     "output_type": "execute_result"
    }
   ],
   "source": [
    "import importlib\n",
    "import wordle_functions as wdl\n",
    "importlib.reload(wdl)"
   ]
  },
  {
   "cell_type": "code",
   "execution_count": null,
   "metadata": {},
   "outputs": [
    {
     "name": "stdout",
     "output_type": "stream",
     "text": [
      "1 | Pattern: GGXXG\n",
      "Initial candidates - rows: 12972 columns: ['WORD']\n",
      "After candidates_match_known - rows: 4 columns: ['WORD']\n",
      "After filter_words_by_exclusions - rows: 0 columns: ['WORD']\n",
      "After candidates_ex_excluded - rows: 0 columns: ['WORD']\n",
      "0 candidates\n",
      "2 | Pattern: GAGGG\n",
      "Initial candidates - rows: 12972 columns: ['WORD']\n",
      "After candidates_match_known - rows: 3 columns: ['WORD']\n",
      "After filter_words_by_exclusions - rows: 2 columns: ['WORD']\n",
      "After candidates_all_letters - rows: 0 columns: ['WORD']\n",
      "0 candidates\n",
      "3 | Pattern: GAGGX\n",
      "Initial candidates - rows: 12972 columns: ['WORD']\n",
      "After candidates_match_known - rows: 9 columns: ['WORD']\n",
      "After filter_words_by_exclusions - rows: 4 columns: ['WORD']\n",
      "After candidates_all_letters - rows: 0 columns: ['WORD']\n",
      "After candidates_ex_excluded - rows: 0 columns: ['WORD']\n",
      "0 candidates\n",
      "4 | Pattern: AGAGA\n",
      "Initial candidates - rows: 12972 columns: ['WORD']\n",
      "After candidates_match_known - rows: 350 columns: ['WORD']\n",
      "After filter_words_by_exclusions - rows: 243 columns: ['WORD']\n",
      "After candidates_all_letters - rows: 0 columns: ['WORD']\n",
      "0 candidates\n",
      "5 | Pattern: AGAAA\n",
      "Initial candidates - rows: 12972 columns: ['WORD']\n",
      "After candidates_match_known - rows: 1383 columns: ['WORD']\n",
      "After filter_words_by_exclusions - rows: 961 columns: ['WORD']\n",
      "After candidates_all_letters - rows: 0 columns: ['WORD']\n",
      "0 candidates\n",
      "6 | Pattern: XGAXG\n",
      "Initial candidates - rows: 12972 columns: ['WORD']\n",
      "After candidates_match_known - rows: 103 columns: ['WORD']\n",
      "After filter_words_by_exclusions - rows: 20 columns: ['WORD']\n",
      "After candidates_all_letters - rows: 1 columns: ['WORD']\n",
      "After candidates_ex_excluded - rows: 0 columns: ['WORD']\n",
      "0 candidates\n",
      "7 | Pattern: GGXAG\n",
      "Initial candidates - rows: 12972 columns: ['WORD']\n",
      "After candidates_match_known - rows: 4 columns: ['WORD']\n",
      "After filter_words_by_exclusions - rows: 0 columns: ['WORD']\n",
      "After candidates_all_letters - rows: 0 columns: ['WORD']\n",
      "After candidates_ex_excluded - rows: 0 columns: ['WORD']\n",
      "0 candidates\n"
     ]
    },
    {
     "data": {
      "text/plain": [
       "{'GGXXG': {'candidates': {'list': [], 'count': 0}},\n",
       " 'GAGGG': {'candidates': {'list': [], 'count': 0}},\n",
       " 'GAGGX': {'candidates': {'list': [], 'count': 0}},\n",
       " 'AGAGA': {'candidates': {'list': [], 'count': 0}},\n",
       " 'AGAAA': {'candidates': {'list': [], 'count': 0}},\n",
       " 'XGAXG': {'candidates': {'list': [], 'count': 0}},\n",
       " 'GGXAG': {'candidates': {'list': [], 'count': 0}}}"
      ]
     },
     "execution_count": 43,
     "metadata": {},
     "output_type": "execute_result"
    }
   ],
   "source": [
    "counter = 0\n",
    "new_dict = {}\n",
    "\n",
    "patterns_with_0 = [\"GGXXG\",\"GAGGG\",\"GAGGX\",\"AGAGA\",\"AGAAA\",\"XGAXG\",\"GGXAG\"]\n",
    "patterns_with_0_ex_bad = [\"GGXXG\",\"GAGGG\",\"GAGGX\",\"AGAGA\",\"AGAAA\",\"XGAXG\"] # excluded \"GGXAG\"\n",
    "\n",
    "#for pattern in pattern_dict:\n",
    "#for pattern in patterns_with_0_ex_bad:\n",
    "for pattern in patterns_with_0:\n",
    "    counter += 1\n",
    "    print(f\"{counter} | Pattern: {pattern}\")\n",
    "    criteria = pattern_dict[pattern]\n",
    "\n",
    "    candidate_list = wordle_filter_debugged(criteria, word_list)[\"WORD\"].tolist()\n",
    "    candidate_count = len(candidate_list)\n",
    "    print(f\"{candidate_count} candidates\")\n",
    "    new_dict[pattern] = {\"candidates\": {\"list\": candidate_list, \"count\": candidate_count}}\n",
    "\n",
    "new_dict\n"
   ]
  },
  {
   "cell_type": "code",
   "execution_count": null,
   "metadata": {},
   "outputs": [
    {
     "name": "stdout",
     "output_type": "stream",
     "text": [
      "1 | Pattern: GGXAG\n"
     ]
    },
    {
     "ename": "KeyError",
     "evalue": "'WORD'",
     "output_type": "error",
     "traceback": [
      "\u001b[1;31m---------------------------------------------------------------------------\u001b[0m",
      "\u001b[1;31mKeyError\u001b[0m                                  Traceback (most recent call last)",
      "File \u001b[1;32mc:\\Users\\JBA33\\AppData\\Local\\Programs\\Python\\Python312\\Lib\\site-packages\\pandas\\core\\indexes\\base.py:3802\u001b[0m, in \u001b[0;36mIndex.get_loc\u001b[1;34m(self, key)\u001b[0m\n\u001b[0;32m   3801\u001b[0m \u001b[38;5;28;01mtry\u001b[39;00m:\n\u001b[1;32m-> 3802\u001b[0m     \u001b[38;5;28;01mreturn\u001b[39;00m \u001b[38;5;28;43mself\u001b[39;49m\u001b[38;5;241;43m.\u001b[39;49m\u001b[43m_engine\u001b[49m\u001b[38;5;241;43m.\u001b[39;49m\u001b[43mget_loc\u001b[49m\u001b[43m(\u001b[49m\u001b[43mcasted_key\u001b[49m\u001b[43m)\u001b[49m\n\u001b[0;32m   3803\u001b[0m \u001b[38;5;28;01mexcept\u001b[39;00m \u001b[38;5;167;01mKeyError\u001b[39;00m \u001b[38;5;28;01mas\u001b[39;00m err:\n",
      "File \u001b[1;32mindex.pyx:153\u001b[0m, in \u001b[0;36mpandas._libs.index.IndexEngine.get_loc\u001b[1;34m()\u001b[0m\n",
      "File \u001b[1;32mindex.pyx:182\u001b[0m, in \u001b[0;36mpandas._libs.index.IndexEngine.get_loc\u001b[1;34m()\u001b[0m\n",
      "File \u001b[1;32mpandas\\\\_libs\\\\hashtable_class_helper.pxi:7081\u001b[0m, in \u001b[0;36mpandas._libs.hashtable.PyObjectHashTable.get_item\u001b[1;34m()\u001b[0m\n",
      "File \u001b[1;32mpandas\\\\_libs\\\\hashtable_class_helper.pxi:7089\u001b[0m, in \u001b[0;36mpandas._libs.hashtable.PyObjectHashTable.get_item\u001b[1;34m()\u001b[0m\n",
      "\u001b[1;31mKeyError\u001b[0m: 'WORD'",
      "\nThe above exception was the direct cause of the following exception:\n",
      "\u001b[1;31mKeyError\u001b[0m                                  Traceback (most recent call last)",
      "Cell \u001b[1;32mIn[35], line 14\u001b[0m\n\u001b[0;32m     11\u001b[0m \u001b[38;5;28mprint\u001b[39m(\u001b[38;5;124mf\u001b[39m\u001b[38;5;124m\"\u001b[39m\u001b[38;5;132;01m{\u001b[39;00mcounter\u001b[38;5;132;01m}\u001b[39;00m\u001b[38;5;124m | Pattern: \u001b[39m\u001b[38;5;132;01m{\u001b[39;00mpattern\u001b[38;5;132;01m}\u001b[39;00m\u001b[38;5;124m\"\u001b[39m)\n\u001b[0;32m     12\u001b[0m criteria \u001b[38;5;241m=\u001b[39m pattern_dict[pattern]\n\u001b[1;32m---> 14\u001b[0m candidate_list \u001b[38;5;241m=\u001b[39m \u001b[43mwdl\u001b[49m\u001b[38;5;241;43m.\u001b[39;49m\u001b[43mwordle_filter\u001b[49m\u001b[43m(\u001b[49m\u001b[43mcriteria\u001b[49m\u001b[43m,\u001b[49m\u001b[43m \u001b[49m\u001b[43mword_list\u001b[49m\u001b[43m)\u001b[49m\u001b[43m[\u001b[49m\u001b[38;5;124;43m\"\u001b[39;49m\u001b[38;5;124;43mWORD\u001b[39;49m\u001b[38;5;124;43m\"\u001b[39;49m\u001b[43m]\u001b[49m\u001b[38;5;241m.\u001b[39mtolist()\n\u001b[0;32m     15\u001b[0m candidate_count \u001b[38;5;241m=\u001b[39m \u001b[38;5;28mlen\u001b[39m(candidate_list)\n\u001b[0;32m     16\u001b[0m \u001b[38;5;28mprint\u001b[39m(\u001b[38;5;124mf\u001b[39m\u001b[38;5;124m\"\u001b[39m\u001b[38;5;132;01m{\u001b[39;00mcandidate_count\u001b[38;5;132;01m}\u001b[39;00m\u001b[38;5;124m candidates\u001b[39m\u001b[38;5;124m\"\u001b[39m)\n",
      "File \u001b[1;32mc:\\Users\\JBA33\\AppData\\Local\\Programs\\Python\\Python312\\Lib\\site-packages\\pandas\\core\\frame.py:4090\u001b[0m, in \u001b[0;36mDataFrame.__getitem__\u001b[1;34m(self, key)\u001b[0m\n\u001b[0;32m   4088\u001b[0m \u001b[38;5;28;01mif\u001b[39;00m \u001b[38;5;28mself\u001b[39m\u001b[38;5;241m.\u001b[39mcolumns\u001b[38;5;241m.\u001b[39mnlevels \u001b[38;5;241m>\u001b[39m \u001b[38;5;241m1\u001b[39m:\n\u001b[0;32m   4089\u001b[0m     \u001b[38;5;28;01mreturn\u001b[39;00m \u001b[38;5;28mself\u001b[39m\u001b[38;5;241m.\u001b[39m_getitem_multilevel(key)\n\u001b[1;32m-> 4090\u001b[0m indexer \u001b[38;5;241m=\u001b[39m \u001b[38;5;28;43mself\u001b[39;49m\u001b[38;5;241;43m.\u001b[39;49m\u001b[43mcolumns\u001b[49m\u001b[38;5;241;43m.\u001b[39;49m\u001b[43mget_loc\u001b[49m\u001b[43m(\u001b[49m\u001b[43mkey\u001b[49m\u001b[43m)\u001b[49m\n\u001b[0;32m   4091\u001b[0m \u001b[38;5;28;01mif\u001b[39;00m is_integer(indexer):\n\u001b[0;32m   4092\u001b[0m     indexer \u001b[38;5;241m=\u001b[39m [indexer]\n",
      "File \u001b[1;32mc:\\Users\\JBA33\\AppData\\Local\\Programs\\Python\\Python312\\Lib\\site-packages\\pandas\\core\\indexes\\base.py:3809\u001b[0m, in \u001b[0;36mIndex.get_loc\u001b[1;34m(self, key)\u001b[0m\n\u001b[0;32m   3804\u001b[0m     \u001b[38;5;28;01mif\u001b[39;00m \u001b[38;5;28misinstance\u001b[39m(casted_key, \u001b[38;5;28mslice\u001b[39m) \u001b[38;5;129;01mor\u001b[39;00m (\n\u001b[0;32m   3805\u001b[0m         \u001b[38;5;28misinstance\u001b[39m(casted_key, abc\u001b[38;5;241m.\u001b[39mIterable)\n\u001b[0;32m   3806\u001b[0m         \u001b[38;5;129;01mand\u001b[39;00m \u001b[38;5;28many\u001b[39m(\u001b[38;5;28misinstance\u001b[39m(x, \u001b[38;5;28mslice\u001b[39m) \u001b[38;5;28;01mfor\u001b[39;00m x \u001b[38;5;129;01min\u001b[39;00m casted_key)\n\u001b[0;32m   3807\u001b[0m     ):\n\u001b[0;32m   3808\u001b[0m         \u001b[38;5;28;01mraise\u001b[39;00m InvalidIndexError(key)\n\u001b[1;32m-> 3809\u001b[0m     \u001b[38;5;28;01mraise\u001b[39;00m \u001b[38;5;167;01mKeyError\u001b[39;00m(key) \u001b[38;5;28;01mfrom\u001b[39;00m \u001b[38;5;21;01merr\u001b[39;00m\n\u001b[0;32m   3810\u001b[0m \u001b[38;5;28;01mexcept\u001b[39;00m \u001b[38;5;167;01mTypeError\u001b[39;00m:\n\u001b[0;32m   3811\u001b[0m     \u001b[38;5;66;03m# If we have a listlike key, _check_indexing_error will raise\u001b[39;00m\n\u001b[0;32m   3812\u001b[0m     \u001b[38;5;66;03m#  InvalidIndexError. Otherwise we fall through and re-raise\u001b[39;00m\n\u001b[0;32m   3813\u001b[0m     \u001b[38;5;66;03m#  the TypeError.\u001b[39;00m\n\u001b[0;32m   3814\u001b[0m     \u001b[38;5;28mself\u001b[39m\u001b[38;5;241m.\u001b[39m_check_indexing_error(key)\n",
      "\u001b[1;31mKeyError\u001b[0m: 'WORD'"
     ]
    }
   ],
   "source": [
    "counter = 0\n",
    "new_dict = {}\n",
    "\n",
    "patterns_with_0 = [\"GGXXG\",\"GAGGG\",\"GAGGX\",\"AGAGA\",\"AGAAA\",\"XGAXG\",\"GGXAG\"]\n",
    "patterns_with_0_ex_bad = [\"GGXXG\",\"GAGGG\",\"GAGGX\",\"AGAGA\",\"AGAAA\",\"XGAXG\"] # excluded \"GGXAG\"\n",
    "bad_patterns = list(set(patterns_with_0) - set(patterns_with_0_ex_bad))\n",
    "\n",
    "#for pattern in pattern_dict:\n",
    "for pattern in bad_patterns:\n",
    "    counter += 1\n",
    "    print(f\"{counter} | Pattern: {pattern}\")\n",
    "    criteria = pattern_dict[pattern]\n",
    "\n",
    "    candidate_list = wdl.wordle_filter(criteria, word_list)[\"WORD\"].tolist()\n",
    "    candidate_count = len(candidate_list)\n",
    "    print(f\"{candidate_count} candidates\")\n",
    "    new_dict[pattern] = {\"candidates\": {\"list\": candidate_list, \"count\": candidate_count}}\n",
    "\n",
    "new_dict"
   ]
  },
  {
   "cell_type": "code",
   "execution_count": null,
   "metadata": {},
   "outputs": [],
   "source": [
    "patterns_with_0 = [\"GGXXG\",\"GAGGG\",\"GAGGX\",\"AGAGA\",\"AGAAA\",\"XGAXG\",\"GGXAG\"]\n",
    "bad_pattern = \"GGXAG\"\n",
    "\n",
    "pattern = \"GGXAG\"\n",
    "inputs = pattern_dict[pattern]\n",
    "\n",
    "known_letters = inputs['known_letters'].upper()\n",
    "unlocated_letters = inputs['unlocated_letters_in_word'].upper()\n",
    "exclusions = {k: v.upper() for k, v in inputs['exclusions'].items()}\n",
    "letters_not_in_word = inputs['letters_not_in_word'].upper()\n"
   ]
  },
  {
   "cell_type": "code",
   "execution_count": null,
   "metadata": {},
   "outputs": [
    {
     "name": "stdout",
     "output_type": "stream",
     "text": [
      "{'known_letters': 'AI--R'}\n",
      "{'exclusions': {'1st char': '', '2nd char': '', '3rd char': 'D', '4th char': 'E', '5th char': ''}}\n",
      "0\n",
      "{'unlocated_letters': 'E'}\n",
      "0\n"
     ]
    },
    {
     "ename": "KeyError",
     "evalue": "'WORD'",
     "output_type": "error",
     "traceback": [
      "\u001b[1;31m---------------------------------------------------------------------------\u001b[0m",
      "\u001b[1;31mKeyError\u001b[0m                                  Traceback (most recent call last)",
      "File \u001b[1;32mc:\\Users\\JBA33\\AppData\\Local\\Programs\\Python\\Python312\\Lib\\site-packages\\pandas\\core\\indexes\\base.py:3802\u001b[0m, in \u001b[0;36mIndex.get_loc\u001b[1;34m(self, key)\u001b[0m\n\u001b[0;32m   3801\u001b[0m \u001b[38;5;28;01mtry\u001b[39;00m:\n\u001b[1;32m-> 3802\u001b[0m     \u001b[38;5;28;01mreturn\u001b[39;00m \u001b[38;5;28;43mself\u001b[39;49m\u001b[38;5;241;43m.\u001b[39;49m\u001b[43m_engine\u001b[49m\u001b[38;5;241;43m.\u001b[39;49m\u001b[43mget_loc\u001b[49m\u001b[43m(\u001b[49m\u001b[43mcasted_key\u001b[49m\u001b[43m)\u001b[49m\n\u001b[0;32m   3803\u001b[0m \u001b[38;5;28;01mexcept\u001b[39;00m \u001b[38;5;167;01mKeyError\u001b[39;00m \u001b[38;5;28;01mas\u001b[39;00m err:\n",
      "File \u001b[1;32mindex.pyx:153\u001b[0m, in \u001b[0;36mpandas._libs.index.IndexEngine.get_loc\u001b[1;34m()\u001b[0m\n",
      "File \u001b[1;32mindex.pyx:182\u001b[0m, in \u001b[0;36mpandas._libs.index.IndexEngine.get_loc\u001b[1;34m()\u001b[0m\n",
      "File \u001b[1;32mpandas\\\\_libs\\\\hashtable_class_helper.pxi:7081\u001b[0m, in \u001b[0;36mpandas._libs.hashtable.PyObjectHashTable.get_item\u001b[1;34m()\u001b[0m\n",
      "File \u001b[1;32mpandas\\\\_libs\\\\hashtable_class_helper.pxi:7089\u001b[0m, in \u001b[0;36mpandas._libs.hashtable.PyObjectHashTable.get_item\u001b[1;34m()\u001b[0m\n",
      "\u001b[1;31mKeyError\u001b[0m: 'WORD'",
      "\nThe above exception was the direct cause of the following exception:\n",
      "\u001b[1;31mKeyError\u001b[0m                                  Traceback (most recent call last)",
      "Cell \u001b[1;32mIn[32], line 26\u001b[0m\n\u001b[0;32m     24\u001b[0m     candidates \u001b[38;5;241m=\u001b[39m wdl\u001b[38;5;241m.\u001b[39mcandidates_all_letters(candidates, known_letters, unlocated_letters)\n\u001b[0;32m     25\u001b[0m     \u001b[38;5;28mprint\u001b[39m(\u001b[38;5;28mlen\u001b[39m(candidates))\n\u001b[1;32m---> 26\u001b[0m     candidates3 \u001b[38;5;241m=\u001b[39m \u001b[38;5;28mlen\u001b[39m(\u001b[43mcandidates\u001b[49m\u001b[43m[\u001b[49m\u001b[38;5;124;43m\"\u001b[39;49m\u001b[38;5;124;43mWORD\u001b[39;49m\u001b[38;5;124;43m\"\u001b[39;49m\u001b[43m]\u001b[49m)\n\u001b[0;32m     28\u001b[0m \u001b[38;5;28;01mif\u001b[39;00m letters_not_in_word:\n\u001b[0;32m     29\u001b[0m     \u001b[38;5;28mprint\u001b[39m({\u001b[38;5;124m\"\u001b[39m\u001b[38;5;124mletters_not_in_word\u001b[39m\u001b[38;5;124m\"\u001b[39m: letters_not_in_word})\n",
      "File \u001b[1;32mc:\\Users\\JBA33\\AppData\\Local\\Programs\\Python\\Python312\\Lib\\site-packages\\pandas\\core\\frame.py:4090\u001b[0m, in \u001b[0;36mDataFrame.__getitem__\u001b[1;34m(self, key)\u001b[0m\n\u001b[0;32m   4088\u001b[0m \u001b[38;5;28;01mif\u001b[39;00m \u001b[38;5;28mself\u001b[39m\u001b[38;5;241m.\u001b[39mcolumns\u001b[38;5;241m.\u001b[39mnlevels \u001b[38;5;241m>\u001b[39m \u001b[38;5;241m1\u001b[39m:\n\u001b[0;32m   4089\u001b[0m     \u001b[38;5;28;01mreturn\u001b[39;00m \u001b[38;5;28mself\u001b[39m\u001b[38;5;241m.\u001b[39m_getitem_multilevel(key)\n\u001b[1;32m-> 4090\u001b[0m indexer \u001b[38;5;241m=\u001b[39m \u001b[38;5;28;43mself\u001b[39;49m\u001b[38;5;241;43m.\u001b[39;49m\u001b[43mcolumns\u001b[49m\u001b[38;5;241;43m.\u001b[39;49m\u001b[43mget_loc\u001b[49m\u001b[43m(\u001b[49m\u001b[43mkey\u001b[49m\u001b[43m)\u001b[49m\n\u001b[0;32m   4091\u001b[0m \u001b[38;5;28;01mif\u001b[39;00m is_integer(indexer):\n\u001b[0;32m   4092\u001b[0m     indexer \u001b[38;5;241m=\u001b[39m [indexer]\n",
      "File \u001b[1;32mc:\\Users\\JBA33\\AppData\\Local\\Programs\\Python\\Python312\\Lib\\site-packages\\pandas\\core\\indexes\\base.py:3809\u001b[0m, in \u001b[0;36mIndex.get_loc\u001b[1;34m(self, key)\u001b[0m\n\u001b[0;32m   3804\u001b[0m     \u001b[38;5;28;01mif\u001b[39;00m \u001b[38;5;28misinstance\u001b[39m(casted_key, \u001b[38;5;28mslice\u001b[39m) \u001b[38;5;129;01mor\u001b[39;00m (\n\u001b[0;32m   3805\u001b[0m         \u001b[38;5;28misinstance\u001b[39m(casted_key, abc\u001b[38;5;241m.\u001b[39mIterable)\n\u001b[0;32m   3806\u001b[0m         \u001b[38;5;129;01mand\u001b[39;00m \u001b[38;5;28many\u001b[39m(\u001b[38;5;28misinstance\u001b[39m(x, \u001b[38;5;28mslice\u001b[39m) \u001b[38;5;28;01mfor\u001b[39;00m x \u001b[38;5;129;01min\u001b[39;00m casted_key)\n\u001b[0;32m   3807\u001b[0m     ):\n\u001b[0;32m   3808\u001b[0m         \u001b[38;5;28;01mraise\u001b[39;00m InvalidIndexError(key)\n\u001b[1;32m-> 3809\u001b[0m     \u001b[38;5;28;01mraise\u001b[39;00m \u001b[38;5;167;01mKeyError\u001b[39;00m(key) \u001b[38;5;28;01mfrom\u001b[39;00m \u001b[38;5;21;01merr\u001b[39;00m\n\u001b[0;32m   3810\u001b[0m \u001b[38;5;28;01mexcept\u001b[39;00m \u001b[38;5;167;01mTypeError\u001b[39;00m:\n\u001b[0;32m   3811\u001b[0m     \u001b[38;5;66;03m# If we have a listlike key, _check_indexing_error will raise\u001b[39;00m\n\u001b[0;32m   3812\u001b[0m     \u001b[38;5;66;03m#  InvalidIndexError. Otherwise we fall through and re-raise\u001b[39;00m\n\u001b[0;32m   3813\u001b[0m     \u001b[38;5;66;03m#  the TypeError.\u001b[39;00m\n\u001b[0;32m   3814\u001b[0m     \u001b[38;5;28mself\u001b[39m\u001b[38;5;241m.\u001b[39m_check_indexing_error(key)\n",
      "\u001b[1;31mKeyError\u001b[0m: 'WORD'"
     ]
    }
   ],
   "source": [
    "pattern = \"GGXAG\"\n",
    "\n",
    "inputs = pattern_dict[pattern]\n",
    "known_letters = inputs['known_letters'].upper()\n",
    "unlocated_letters = inputs['unlocated_letters_in_word'].upper()\n",
    "exclusions = {k: v.upper() for k, v in inputs['exclusions'].items()}\n",
    "letters_not_in_word = inputs['letters_not_in_word'].upper()\n",
    "\n",
    "candidates = word_list.copy()\n",
    "\n",
    "if known_letters:\n",
    "    print({\"known_letters\": known_letters})\n",
    "    candidates = wdl.candidates_match_known(candidates, known_letters)\n",
    "    candidates1 = len(candidates[\"WORD\"])\n",
    "\n",
    "if any(bool(chars) for chars in exclusions.values()):\n",
    "    print({\"exclusions\": exclusions})\n",
    "    candidates = wdl.filter_words_by_exclusions(candidates, exclusions)\n",
    "    print(len(candidates))\n",
    "    candidates2 = len(candidates[\"WORD\"])\n",
    "\n",
    "if unlocated_letters:\n",
    "    print({\"unlocated_letters\": unlocated_letters})  \n",
    "    candidates = wdl.candidates_all_letters(candidates, known_letters, unlocated_letters)\n",
    "    print(len(candidates))\n",
    "    candidates3 = len(candidates[\"WORD\"])\n",
    "    \n",
    "if letters_not_in_word:\n",
    "    print({\"letters_not_in_word\": letters_not_in_word})\n",
    "    candidates = wdl.candidates_ex_excluded(candidates, letters_not_in_word)\n",
    "    print(len(candidates))\n",
    "    candidates4 = len(candidates[\"WORD\"])\n",
    "\n"
   ]
  },
  {
   "cell_type": "code",
   "execution_count": null,
   "metadata": {},
   "outputs": [],
   "source": [
    "\n",
    "import json\n",
    "\n",
    "def summarize_structure(data, indent=0):\n",
    "    \"\"\"Recursively prints the keys and types of a nested dictionary or list.\"\"\"\n",
    "    spacing = \"  \" * indent\n",
    "    if isinstance(data, dict):\n",
    "        for key, value in data.items():\n",
    "            print(f\"{spacing}{key}: {type(value).__name__}\")\n",
    "            summarize_structure(value, indent + 1)\n",
    "    elif isinstance(data, list):\n",
    "        if data:\n",
    "            print(f\"{spacing}List of {len(data)} items, first item type: {type(data[0]).__name__}\")\n",
    "            # Optionally summarize just the first item if it's a complex structure\n",
    "            summarize_structure(data[0], indent + 1)\n",
    "        else:\n",
    "            print(f\"{spacing}Empty list\")\n",
    "    else:\n",
    "        # Base case: data is neither dict nor list\n",
    "        pass\n",
    "\n",
    "# Load your JSON file\n",
    "with open('aider_outcomes_with_candidates.json', 'r') as f:\n",
    "    data = json.load(f)\n",
    "\n",
    "# Summarize the structure\n",
    "summarize_structure(data)\n"
   ]
  },
  {
   "cell_type": "code",
   "execution_count": null,
   "metadata": {},
   "outputs": [
    {
     "name": "stdout",
     "output_type": "stream",
     "text": [
      "    pattern  candidate_count\n",
      "0     XXXXX             1342\n",
      "1     XXXXA              482\n",
      "2     XXXXG               31\n",
      "3     XXXAX              914\n",
      "4     XXXAA              442\n",
      "..      ...              ...\n",
      "238   GGGAA                0\n",
      "239   GGGAG                0\n",
      "240   GGGGX                2\n",
      "241   GGGGA                0\n",
      "242   GGGGG                1\n",
      "\n",
      "[243 rows x 2 columns]\n"
     ]
    }
   ],
   "source": [
    "import json\n",
    "import pandas as pd\n",
    "\n",
    "your_file = 'aider_outcomes_with_candidates.json'\n",
    "\n",
    "# Load your JSON file into a dictionary\n",
    "with open(your_file, 'r') as f:\n",
    "    data = json.load(f)\n",
    "\n",
    "# Create a list of records with 'pattern' and 'candidate_count'\n",
    "records = []\n",
    "for pattern, details in data.items():\n",
    "    # Safely extract the candidate count; defaults to 0 if missing\n",
    "    candidate_count = details.get(\"remaining_candidates\", {}).get(\"count\", 0)\n",
    "    records.append({\"pattern\": pattern, \"candidate_count\": candidate_count})\n",
    "\n",
    "# Convert the list of records into a DataFrame\n",
    "df = pd.DataFrame(records)\n",
    "print(df)\n"
   ]
  },
  {
   "cell_type": "code",
   "execution_count": null,
   "metadata": {},
   "outputs": [
    {
     "data": {
      "image/png": "[encoded data removed]",
      "text/plain": [
       "<Figure size 800x600 with 1 Axes>"
      ]
     },
     "metadata": {},
     "output_type": "display_data"
    }
   ],
   "source": [
    "import matplotlib.pyplot as plt\n",
    "\n",
    "# Assuming df is your DataFrame with 'candidate_count'\n",
    "plt.figure(figsize=(8, 6))\n",
    "plt.hist(df['candidate_count'], bins=100, edgecolor='black')\n",
    "plt.xlabel('Candidate Count')\n",
    "plt.ylabel('Frequency')\n",
    "plt.title('Distribution of Candidate Count')\n",
    "plt.show()"
   ]
  },
  {
   "cell_type": "code",
   "execution_count": null,
   "metadata": {},
   "outputs": [
    {
     "data": {
      "image/png": "[encoded data removed]",
      "text/plain": [
       "<Figure size 800x600 with 1 Axes>"
      ]
     },
     "metadata": {},
     "output_type": "display_data"
    }
   ],
   "source": [
    "import seaborn as sns\n",
    "import matplotlib.pyplot as plt\n",
    "\n",
    "plt.figure(figsize=(8, 6))\n",
    "sns.histplot(df['candidate_count'], bins=100, kde=True)\n",
    "plt.xlabel('Candidate Count')\n",
    "plt.ylabel('Frequency')\n",
    "plt.title('Distribution of Candidate Count')\n",
    "plt.show()"
   ]
  },
  {
   "cell_type": "code",
   "execution_count": null,
   "metadata": {},
   "outputs": [
    {
     "data": {
      "image/png": "[encoded data removed]",
      "text/plain": [
       "<Figure size 800x600 with 1 Axes>"
      ]
     },
     "metadata": {},
     "output_type": "display_data"
    }
   ],
   "source": [
    "filtered_data = {\n",
    "    pattern: details\n",
    "    for pattern, details in data.items()\n",
    "    if details.get(\"remaining_candidates\", {}).get(\"count\", 0) > 0\n",
    "}\n",
    "\n",
    "records = []\n",
    "for pattern, details in filtered_data.items():\n",
    "    # Safely extract the candidate count; defaults to 0 if missing\n",
    "    candidate_count = details.get(\"remaining_candidates\", {}).get(\"count\", 0)\n",
    "    records.append({\"pattern\": pattern, \"candidate_count\": candidate_count})\n",
    "\n",
    "# Convert the list of records into a DataFrame\n",
    "df_filtered = pd.DataFrame(records)\n",
    "\n",
    "plt.figure(figsize=(8, 6))\n",
    "sns.histplot(df_filtered['candidate_count'], bins=100, kde=True)\n",
    "plt.xlabel('Candidate Count')\n",
    "plt.ylabel('Frequency')\n",
    "plt.title('Distribution of Candidate Count')\n",
    "plt.show()"
   ]
  },
  {
   "cell_type": "code",
   "execution_count": null,
   "metadata": {},
   "outputs": [
    {
     "data": {
      "text/plain": [
       "<module 'expected_value' from 'c:\\\\Users\\\\JBA33\\\\OneDrive - Sky\\\\Documents\\\\python\\\\wordle\\\\WordlePy\\\\expected_value.py'>"
      ]
     },
     "execution_count": 54,
     "metadata": {},
     "output_type": "execute_result"
    }
   ],
   "source": [
    "import expected_value as ev\n",
    "importlib.reload(ev)"
   ]
  },
  {
   "cell_type": "code",
   "execution_count": null,
   "metadata": {},
   "outputs": [
    {
     "data": {
      "text/plain": [
       "(     Word  Max   Expected  Median  25th Perc  75th Perc\n",
       " 29  TUMOR    5   2.741935     2.0        1.0        5.0\n",
       " 28  SUTOR    5   2.806452     3.0        2.0        4.0\n",
       " 16  MUCOR    6   2.870968     3.0        1.0        4.0\n",
       " 20  SCOUR    7   2.935484     2.0        1.0        3.0\n",
       " 26  STOUR    7   3.000000     2.0        2.0        3.0\n",
       " 14  MOHUR    6   3.129032     3.0        1.0        5.0\n",
       " 1   CLOUR    7   3.193548     2.0        1.0        4.0\n",
       " 10  HUMOR    6   3.258065     2.0        1.5        5.0\n",
       " 22  SOHUR    8   3.516129     3.0        1.0        5.5\n",
       " 27  SUHUR    7   3.870968     4.0        2.0        6.0\n",
       " 5   FLOUR    8   3.903226     4.0        1.5        6.0\n",
       " 19  RUMOR    7   3.967742     4.0        2.0        6.0\n",
       " 30  TUTOR    6   4.032258     5.0        2.0        6.0\n",
       " 6   FLUOR    7   4.419355     5.0        1.0        7.0\n",
       " 15  MOTOR   10   4.580645     3.0        2.5        7.5\n",
       " 3   CRUOR    8   4.677419     4.0        1.5        7.5\n",
       " 21  SMOOR    9   4.806452     4.0        3.0        8.0\n",
       " 0   CHURR    8   4.870968     4.0        2.5        7.5\n",
       " 8   FUROR    8   4.967742     6.0        1.0        7.5\n",
       " 25  STOOR   11   5.258065     4.0        2.0       10.0\n",
       " 13  MHORR   10   5.516129     7.0        2.0       10.0\n",
       " 17  OCCUR    9   5.612903     8.0        2.0        9.0\n",
       " 11  JUROR    9   6.064516     7.0        3.0        9.0\n",
       " 2   COLOR   14   6.548387     4.0        2.0       12.0\n",
       " 18  ROTOR   15   7.516129     5.0        3.0       12.5\n",
       " 7   FLURR   13   7.677419     8.0        1.5       13.0\n",
       " 23  SOPOR   14   7.903226     5.0        3.0       14.0\n",
       " 24  SPOOR   15   8.064516     4.0        3.0       14.0\n",
       " 4   FLOOR   15   8.322581     6.0        3.0       15.0\n",
       " 9   HONOR   18  10.451613    13.0        2.0       17.0\n",
       " 12  KNURR   16  10.967742    16.0        8.5       16.0,\n",
       " 0.7107584476470947,\n",
       " 0.0229276918595837)"
      ]
     },
     "execution_count": 66,
     "metadata": {},
     "output_type": "execute_result"
    }
   ],
   "source": [
    "\n",
    "\n",
    "candidates = filtered_data[\"XXXXG\"][\"remaining_candidates\"][\"words\"]\n",
    "# ev.perform_full_analysis(candidates, candidates)\n",
    "\n",
    "candidates_df = pd.DataFrame({\"WORD\": candidates})\n",
    "ev.perform_full_analysis(candidates, candidates_df)\n",
    "\n",
    "\n",
    "# lengths = candidates_df[\"WORD\"].apply(len)\n",
    "# print(lengths.value_counts())"
   ]
  },
  {
   "cell_type": "code",
   "execution_count": 82,
   "metadata": {},
   "outputs": [],
   "source": [
    "\n",
    "def max_analysis_for_pattern(pattern):\n",
    "    # Your logic to generate a DataFrame for the given pattern\n",
    "    candidates = filtered_data[pattern][\"remaining_candidates\"][\"words\"]\n",
    "    candidates_df = pd.DataFrame({\"WORD\": candidates})\n",
    "    data = ev.perform_full_analysis(candidates, candidates_df)\n",
    "    #return pd.DataFrame(data)\n",
    "    return data\n",
    "\n",
    "\n",
    "full_analysis_xxxxx = max_analysis_for_pattern(\"XXXXX\")\n",
    "\n"
   ]
  },
  {
   "cell_type": "code",
   "execution_count": 79,
   "metadata": {},
   "outputs": [
    {
     "name": "stdout",
     "output_type": "stream",
     "text": [
      "{1: 'ok', 2: 'ok', 3: 'ok', 4: 'ok', 5: 'ok', 6: 'ok', 11: {'exclusions': {'1st char': 'A', '2nd char': 'I', '3rd char': 'D', '4th char': 'E', '5th char': 'R'}, 'known_letters': '-----', 'unlocated_letters_in_word': '', 'letters_not_in_word': 'AIDER', 'previous_guesses': ['AIDER XXXXX']}, 12: {'exclusions': {'1st char': 'A', '2nd char': 'I', '3rd char': 'D', '4th char': 'E', '5th char': 'R'}, 'known_letters': '-----', 'unlocated_letters_in_word': '', 'letters_not_in_word': 'AIDER', 'previous_guesses': ['AIDER XXXXX']}, 13: 'ok', 14:         WORD\n",
      "1037   BHOOT\n",
      "1039   BHUTS\n",
      "1192   BLOBS\n",
      "1193   BLOCK\n",
      "1194   BLOCS\n",
      "...      ...\n",
      "12953  ZOOTY\n",
      "12955  ZOPPO\n",
      "12959  ZOUKS\n",
      "12962  ZULUS\n",
      "12969  ZYGON\n",
      "\n",
      "[1342 rows x 1 columns], 15: 'ok', 16: 'ok', 17: 'ok', 18: 'ok', 29: 'ok', 33: 'ok', 34: {'GGXXG': {'candidates': {'list': [], 'count': 0}}, 'GAGGG': {'candidates': {'list': [], 'count': 0}}, 'GAGGX': {'candidates': {'list': [], 'count': 0}}, 'AGAGA': {'candidates': {'list': [], 'count': 0}}, 'AGAAA': {'candidates': {'list': [], 'count': 0}}, 'XGAXG': {'candidates': {'list': [], 'count': 0}}}, 35: 'ok', 36: 'ok', 37: 'ok', 38: 'ok', 39: 'ok', 40: 'ok', 41: 'ok', 42: <module 'wordle_functions' from 'c:\\\\Users\\\\JBA33\\\\OneDrive - Sky\\\\Documents\\\\python\\\\wordle\\\\WordlePy\\\\wordle_functions.py'>, 43: {'GGXXG': {'candidates': {'list': [], 'count': 0}}, 'GAGGG': {'candidates': {'list': [], 'count': 0}}, 'GAGGX': {'candidates': {'list': [], 'count': 0}}, 'AGAGA': {'candidates': {'list': [], 'count': 0}}, 'AGAAA': {'candidates': {'list': [], 'count': 0}}, 'XGAXG': {'candidates': {'list': [], 'count': 0}}, 'GGXAG': {'candidates': {'list': [], 'count': 0}}}, 44: 'ok', 45: 'ok', 46: 'ok', 47: 'ok', 48: 'ok', 49: 'ok', 51: 'ok', 53: 'ok', 54: <module 'expected_value' from 'c:\\\\Users\\\\JBA33\\\\OneDrive - Sky\\\\Documents\\\\python\\\\wordle\\\\WordlePy\\\\expected_value.py'>, 55: 'ok', 57: 'ok', 59: 'ok', 66: (     Word  Max   Expected  Median  25th Perc  75th Perc\n",
      "29  TUMOR    5   2.741935     2.0        1.0        5.0\n",
      "28  SUTOR    5   2.806452     3.0        2.0        4.0\n",
      "16  MUCOR    6   2.870968     3.0        1.0        4.0\n",
      "20  SCOUR    7   2.935484     2.0        1.0        3.0\n",
      "26  STOUR    7   3.000000     2.0        2.0        3.0\n",
      "14  MOHUR    6   3.129032     3.0        1.0        5.0\n",
      "1   CLOUR    7   3.193548     2.0        1.0        4.0\n",
      "10  HUMOR    6   3.258065     2.0        1.5        5.0\n",
      "22  SOHUR    8   3.516129     3.0        1.0        5.5\n",
      "27  SUHUR    7   3.870968     4.0        2.0        6.0\n",
      "5   FLOUR    8   3.903226     4.0        1.5        6.0\n",
      "19  RUMOR    7   3.967742     4.0        2.0        6.0\n",
      "30  TUTOR    6   4.032258     5.0        2.0        6.0\n",
      "6   FLUOR    7   4.419355     5.0        1.0        7.0\n",
      "15  MOTOR   10   4.580645     3.0        2.5        7.5\n",
      "3   CRUOR    8   4.677419     4.0        1.5        7.5\n",
      "21  SMOOR    9   4.806452     4.0        3.0        8.0\n",
      "0   CHURR    8   4.870968     4.0        2.5        7.5\n",
      "8   FUROR    8   4.967742     6.0        1.0        7.5\n",
      "25  STOOR   11   5.258065     4.0        2.0       10.0\n",
      "13  MHORR   10   5.516129     7.0        2.0       10.0\n",
      "17  OCCUR    9   5.612903     8.0        2.0        9.0\n",
      "11  JUROR    9   6.064516     7.0        3.0        9.0\n",
      "2   COLOR   14   6.548387     4.0        2.0       12.0\n",
      "18  ROTOR   15   7.516129     5.0        3.0       12.5\n",
      "7   FLURR   13   7.677419     8.0        1.5       13.0\n",
      "23  SOPOR   14   7.903226     5.0        3.0       14.0\n",
      "24  SPOOR   15   8.064516     4.0        3.0       14.0\n",
      "4   FLOOR   15   8.322581     6.0        3.0       15.0\n",
      "9   HONOR   18  10.451613    13.0        2.0       17.0\n",
      "12  KNURR   16  10.967742    16.0        8.5       16.0, 0.7107584476470947, 0.0229276918595837), 69: (     Word  Max  Expected  Median  25th Perc  75th Perc\n",
      "3   FEMUR    3  2.166667     2.5       1.00        3.0\n",
      "6   GEBUR    3  2.166667     2.5       1.00        3.0\n",
      "4   FETOR    4  2.333333     2.0       1.00        4.0\n",
      "9   REGUR    4  2.500000     2.5       1.00        4.0\n",
      "0   BEVOR    4  2.666667     3.0       1.75        4.0\n",
      "7   LEMUR    4  2.666667     3.0       1.75        4.0\n",
      "11  TENOR    5  2.833333     2.0       1.00        5.0\n",
      "8   RECUR    4  2.916667     4.0       1.75        4.0\n",
      "10  SENOR    5  3.000000     2.0       1.75        5.0\n",
      "5   FLEUR    5  3.166667     3.0       1.00        5.0\n",
      "1   EPHOR    6  4.500000     5.0       4.00        6.0\n",
      "2   ERROR    6  4.583333     5.0       4.00        6.0, 0.09842300415039062, 0.008201917012532553), 71: (     Word  Max  Expected  Median  25th Perc  75th Perc\n",
      "3   FEMUR    3  2.166667     2.5       1.00        3.0\n",
      "6   GEBUR    3  2.166667     2.5       1.00        3.0\n",
      "4   FETOR    4  2.333333     2.0       1.00        4.0\n",
      "9   REGUR    4  2.500000     2.5       1.00        4.0\n",
      "0   BEVOR    4  2.666667     3.0       1.75        4.0\n",
      "7   LEMUR    4  2.666667     3.0       1.75        4.0\n",
      "11  TENOR    5  2.833333     2.0       1.00        5.0\n",
      "8   RECUR    4  2.916667     4.0       1.75        4.0\n",
      "10  SENOR    5  3.000000     2.0       1.75        5.0\n",
      "5   FLEUR    5  3.166667     3.0       1.00        5.0\n",
      "1   EPHOR    6  4.500000     5.0       4.00        6.0\n",
      "2   ERROR    6  4.583333     5.0       4.00        6.0, 0.10490298271179199, 0.008741915225982666), 72: (     Word  Max   Expected  Median  25th Perc  75th Perc\n",
      "29  TUMOR    5   2.741935     2.0        1.0        5.0\n",
      "28  SUTOR    5   2.806452     3.0        2.0        4.0\n",
      "16  MUCOR    6   2.870968     3.0        1.0        4.0\n",
      "20  SCOUR    7   2.935484     2.0        1.0        3.0\n",
      "26  STOUR    7   3.000000     2.0        2.0        3.0\n",
      "14  MOHUR    6   3.129032     3.0        1.0        5.0\n",
      "1   CLOUR    7   3.193548     2.0        1.0        4.0\n",
      "10  HUMOR    6   3.258065     2.0        1.5        5.0\n",
      "22  SOHUR    8   3.516129     3.0        1.0        5.5\n",
      "27  SUHUR    7   3.870968     4.0        2.0        6.0\n",
      "5   FLOUR    8   3.903226     4.0        1.5        6.0\n",
      "19  RUMOR    7   3.967742     4.0        2.0        6.0\n",
      "30  TUTOR    6   4.032258     5.0        2.0        6.0\n",
      "6   FLUOR    7   4.419355     5.0        1.0        7.0\n",
      "15  MOTOR   10   4.580645     3.0        2.5        7.5\n",
      "3   CRUOR    8   4.677419     4.0        1.5        7.5\n",
      "21  SMOOR    9   4.806452     4.0        3.0        8.0\n",
      "0   CHURR    8   4.870968     4.0        2.5        7.5\n",
      "8   FUROR    8   4.967742     6.0        1.0        7.5\n",
      "25  STOOR   11   5.258065     4.0        2.0       10.0\n",
      "13  MHORR   10   5.516129     7.0        2.0       10.0\n",
      "17  OCCUR    9   5.612903     8.0        2.0        9.0\n",
      "11  JUROR    9   6.064516     7.0        3.0        9.0\n",
      "2   COLOR   14   6.548387     4.0        2.0       12.0\n",
      "18  ROTOR   15   7.516129     5.0        3.0       12.5\n",
      "7   FLURR   13   7.677419     8.0        1.5       13.0\n",
      "23  SOPOR   14   7.903226     5.0        3.0       14.0\n",
      "24  SPOOR   15   8.064516     4.0        3.0       14.0\n",
      "4   FLOOR   15   8.322581     6.0        3.0       15.0\n",
      "9   HONOR   18  10.451613    13.0        2.0       17.0\n",
      "12  KNURR   16  10.967742    16.0        8.5       16.0, 0.6784491539001465, 0.021885456577424082), 73: (       Word  Max    Expected  Median  25th Perc  75th Perc\n",
      "170   CLOTS  108   34.804769    24.0       11.0       55.0\n",
      "804   PLOTS  115   35.785395    22.0       11.0       50.0\n",
      "1090  STOLN  107   36.417288    29.0       15.0       45.0\n",
      "196   COLTS  131   36.608048    23.0       13.0       40.0\n",
      "828   POLTS  131   37.146051    23.0       12.0       50.0\n",
      "...     ...  ...         ...     ...        ...        ...\n",
      "798   PHPHT  591  313.197466   195.0       76.0      591.0\n",
      "420   GYNNY  630  350.659463   245.0       51.0      630.0\n",
      "424   GYPPY  633  356.153502   210.5       80.0      633.0\n",
      "791   OXBOW  652  367.252608   349.0       98.0      652.0\n",
      "1296  XYLYL  654  405.143070   256.0      211.0      654.0\n",
      "\n",
      "[1342 rows x 6 columns], 3103.508565187454, 2.312599526965316), 79: 'ok'}\n"
     ]
    }
   ],
   "source": [
    "print(_oh)"
   ]
  },
  {
   "cell_type": "code",
   "execution_count": 81,
   "metadata": {},
   "outputs": [],
   "source": [
    "df = Out[66]"
   ]
  },
  {
   "cell_type": "code",
   "execution_count": 83,
   "metadata": {},
   "outputs": [
    {
     "name": "stdout",
     "output_type": "stream",
     "text": [
      "<class 'tuple'>\n"
     ]
    }
   ],
   "source": [
    "print(type(full_analysis_xxxxx))\n"
   ]
  },
  {
   "cell_type": "code",
   "execution_count": 86,
   "metadata": {},
   "outputs": [
    {
     "name": "stdout",
     "output_type": "stream",
     "text": [
      "       Word  Max    Expected  Median  25th Perc  75th Perc\n",
      "170   CLOTS  108   34.804769    24.0       11.0       55.0\n",
      "804   PLOTS  115   35.785395    22.0       11.0       50.0\n",
      "1090  STOLN  107   36.417288    29.0       15.0       45.0\n",
      "196   COLTS  131   36.608048    23.0       13.0       40.0\n",
      "828   POLTS  131   37.146051    23.0       12.0       50.0\n",
      "...     ...  ...         ...     ...        ...        ...\n",
      "798   PHPHT  591  313.197466   195.0       76.0      591.0\n",
      "420   GYNNY  630  350.659463   245.0       51.0      630.0\n",
      "424   GYPPY  633  356.153502   210.5       80.0      633.0\n",
      "791   OXBOW  652  367.252608   349.0       98.0      652.0\n",
      "1296  XYLYL  654  405.143070   256.0      211.0      654.0\n",
      "\n",
      "[1342 rows x 6 columns]\n"
     ]
    }
   ],
   "source": [
    "print(full_analysis_xxxxx[0])"
   ]
  },
  {
   "cell_type": "code",
   "execution_count": 87,
   "metadata": {},
   "outputs": [
    {
     "name": "stdout",
     "output_type": "stream",
     "text": [
      "<class 'pandas.core.frame.DataFrame'>\n"
     ]
    }
   ],
   "source": [
    "print(type(full_analysis_xxxxx[0]))"
   ]
  },
  {
   "cell_type": "code",
   "execution_count": 88,
   "metadata": {},
   "outputs": [
    {
     "ename": "TypeError",
     "evalue": "Object of type DataFrame is not JSON serializable",
     "output_type": "error",
     "traceback": [
      "\u001b[1;31m---------------------------------------------------------------------------\u001b[0m",
      "\u001b[1;31mTypeError\u001b[0m                                 Traceback (most recent call last)",
      "Cell \u001b[1;32mIn[88], line 3\u001b[0m\n\u001b[0;32m      1\u001b[0m data_xxxxx \u001b[38;5;241m=\u001b[39m \u001b[38;5;28mlist\u001b[39m(full_analysis_xxxxx)\n\u001b[0;32m      2\u001b[0m \u001b[38;5;28;01mwith\u001b[39;00m \u001b[38;5;28mopen\u001b[39m(\u001b[38;5;124m'\u001b[39m\u001b[38;5;124mfull_analysis_xxxxx.json\u001b[39m\u001b[38;5;124m'\u001b[39m, \u001b[38;5;124m'\u001b[39m\u001b[38;5;124mw\u001b[39m\u001b[38;5;124m'\u001b[39m) \u001b[38;5;28;01mas\u001b[39;00m file:\n\u001b[1;32m----> 3\u001b[0m     \u001b[43mjson\u001b[49m\u001b[38;5;241;43m.\u001b[39;49m\u001b[43mdump\u001b[49m\u001b[43m(\u001b[49m\u001b[43mdata_xxxxx\u001b[49m\u001b[43m,\u001b[49m\u001b[43m \u001b[49m\u001b[43mfile\u001b[49m\u001b[43m)\u001b[49m\n",
      "File \u001b[1;32mc:\\Users\\JBA33\\AppData\\Local\\Programs\\Python\\Python312\\Lib\\json\\__init__.py:179\u001b[0m, in \u001b[0;36mdump\u001b[1;34m(obj, fp, skipkeys, ensure_ascii, check_circular, allow_nan, cls, indent, separators, default, sort_keys, **kw)\u001b[0m\n\u001b[0;32m    173\u001b[0m     iterable \u001b[38;5;241m=\u001b[39m \u001b[38;5;28mcls\u001b[39m(skipkeys\u001b[38;5;241m=\u001b[39mskipkeys, ensure_ascii\u001b[38;5;241m=\u001b[39mensure_ascii,\n\u001b[0;32m    174\u001b[0m         check_circular\u001b[38;5;241m=\u001b[39mcheck_circular, allow_nan\u001b[38;5;241m=\u001b[39mallow_nan, indent\u001b[38;5;241m=\u001b[39mindent,\n\u001b[0;32m    175\u001b[0m         separators\u001b[38;5;241m=\u001b[39mseparators,\n\u001b[0;32m    176\u001b[0m         default\u001b[38;5;241m=\u001b[39mdefault, sort_keys\u001b[38;5;241m=\u001b[39msort_keys, \u001b[38;5;241m*\u001b[39m\u001b[38;5;241m*\u001b[39mkw)\u001b[38;5;241m.\u001b[39miterencode(obj)\n\u001b[0;32m    177\u001b[0m \u001b[38;5;66;03m# could accelerate with writelines in some versions of Python, at\u001b[39;00m\n\u001b[0;32m    178\u001b[0m \u001b[38;5;66;03m# a debuggability cost\u001b[39;00m\n\u001b[1;32m--> 179\u001b[0m \u001b[43m\u001b[49m\u001b[38;5;28;43;01mfor\u001b[39;49;00m\u001b[43m \u001b[49m\u001b[43mchunk\u001b[49m\u001b[43m \u001b[49m\u001b[38;5;129;43;01min\u001b[39;49;00m\u001b[43m \u001b[49m\u001b[43miterable\u001b[49m\u001b[43m:\u001b[49m\n\u001b[0;32m    180\u001b[0m \u001b[43m    \u001b[49m\u001b[43mfp\u001b[49m\u001b[38;5;241;43m.\u001b[39;49m\u001b[43mwrite\u001b[49m\u001b[43m(\u001b[49m\u001b[43mchunk\u001b[49m\u001b[43m)\u001b[49m\n",
      "File \u001b[1;32mc:\\Users\\JBA33\\AppData\\Local\\Programs\\Python\\Python312\\Lib\\json\\encoder.py:430\u001b[0m, in \u001b[0;36m_make_iterencode.<locals>._iterencode\u001b[1;34m(o, _current_indent_level)\u001b[0m\n\u001b[0;32m    428\u001b[0m     \u001b[38;5;28;01myield\u001b[39;00m _floatstr(o)\n\u001b[0;32m    429\u001b[0m \u001b[38;5;28;01melif\u001b[39;00m \u001b[38;5;28misinstance\u001b[39m(o, (\u001b[38;5;28mlist\u001b[39m, \u001b[38;5;28mtuple\u001b[39m)):\n\u001b[1;32m--> 430\u001b[0m     \u001b[38;5;28;01myield from\u001b[39;00m _iterencode_list(o, _current_indent_level)\n\u001b[0;32m    431\u001b[0m \u001b[38;5;28;01melif\u001b[39;00m \u001b[38;5;28misinstance\u001b[39m(o, \u001b[38;5;28mdict\u001b[39m):\n\u001b[0;32m    432\u001b[0m     \u001b[38;5;28;01myield from\u001b[39;00m _iterencode_dict(o, _current_indent_level)\n",
      "File \u001b[1;32mc:\\Users\\JBA33\\AppData\\Local\\Programs\\Python\\Python312\\Lib\\json\\encoder.py:326\u001b[0m, in \u001b[0;36m_make_iterencode.<locals>._iterencode_list\u001b[1;34m(lst, _current_indent_level)\u001b[0m\n\u001b[0;32m    324\u001b[0m         \u001b[38;5;28;01melse\u001b[39;00m:\n\u001b[0;32m    325\u001b[0m             chunks \u001b[38;5;241m=\u001b[39m _iterencode(value, _current_indent_level)\n\u001b[1;32m--> 326\u001b[0m         \u001b[38;5;28;01myield from\u001b[39;00m chunks\n\u001b[0;32m    327\u001b[0m \u001b[38;5;28;01mif\u001b[39;00m newline_indent \u001b[38;5;129;01mis\u001b[39;00m \u001b[38;5;129;01mnot\u001b[39;00m \u001b[38;5;28;01mNone\u001b[39;00m:\n\u001b[0;32m    328\u001b[0m     _current_indent_level \u001b[38;5;241m-\u001b[39m\u001b[38;5;241m=\u001b[39m \u001b[38;5;241m1\u001b[39m\n",
      "File \u001b[1;32mc:\\Users\\JBA33\\AppData\\Local\\Programs\\Python\\Python312\\Lib\\json\\encoder.py:439\u001b[0m, in \u001b[0;36m_make_iterencode.<locals>._iterencode\u001b[1;34m(o, _current_indent_level)\u001b[0m\n\u001b[0;32m    437\u001b[0m         \u001b[38;5;28;01mraise\u001b[39;00m \u001b[38;5;167;01mValueError\u001b[39;00m(\u001b[38;5;124m\"\u001b[39m\u001b[38;5;124mCircular reference detected\u001b[39m\u001b[38;5;124m\"\u001b[39m)\n\u001b[0;32m    438\u001b[0m     markers[markerid] \u001b[38;5;241m=\u001b[39m o\n\u001b[1;32m--> 439\u001b[0m o \u001b[38;5;241m=\u001b[39m \u001b[43m_default\u001b[49m\u001b[43m(\u001b[49m\u001b[43mo\u001b[49m\u001b[43m)\u001b[49m\n\u001b[0;32m    440\u001b[0m \u001b[38;5;28;01myield from\u001b[39;00m _iterencode(o, _current_indent_level)\n\u001b[0;32m    441\u001b[0m \u001b[38;5;28;01mif\u001b[39;00m markers \u001b[38;5;129;01mis\u001b[39;00m \u001b[38;5;129;01mnot\u001b[39;00m \u001b[38;5;28;01mNone\u001b[39;00m:\n",
      "File \u001b[1;32mc:\\Users\\JBA33\\AppData\\Local\\Programs\\Python\\Python312\\Lib\\json\\encoder.py:180\u001b[0m, in \u001b[0;36mJSONEncoder.default\u001b[1;34m(self, o)\u001b[0m\n\u001b[0;32m    161\u001b[0m \u001b[38;5;28;01mdef\u001b[39;00m \u001b[38;5;21mdefault\u001b[39m(\u001b[38;5;28mself\u001b[39m, o):\n\u001b[0;32m    162\u001b[0m \u001b[38;5;250m    \u001b[39m\u001b[38;5;124;03m\"\"\"Implement this method in a subclass such that it returns\u001b[39;00m\n\u001b[0;32m    163\u001b[0m \u001b[38;5;124;03m    a serializable object for ``o``, or calls the base implementation\u001b[39;00m\n\u001b[0;32m    164\u001b[0m \u001b[38;5;124;03m    (to raise a ``TypeError``).\u001b[39;00m\n\u001b[1;32m   (...)\u001b[0m\n\u001b[0;32m    178\u001b[0m \n\u001b[0;32m    179\u001b[0m \u001b[38;5;124;03m    \"\"\"\u001b[39;00m\n\u001b[1;32m--> 180\u001b[0m     \u001b[38;5;28;01mraise\u001b[39;00m \u001b[38;5;167;01mTypeError\u001b[39;00m(\u001b[38;5;124mf\u001b[39m\u001b[38;5;124m'\u001b[39m\u001b[38;5;124mObject of type \u001b[39m\u001b[38;5;132;01m{\u001b[39;00mo\u001b[38;5;241m.\u001b[39m\u001b[38;5;18m__class__\u001b[39m\u001b[38;5;241m.\u001b[39m\u001b[38;5;18m__name__\u001b[39m\u001b[38;5;132;01m}\u001b[39;00m\u001b[38;5;124m \u001b[39m\u001b[38;5;124m'\u001b[39m\n\u001b[0;32m    181\u001b[0m                     \u001b[38;5;124mf\u001b[39m\u001b[38;5;124m'\u001b[39m\u001b[38;5;124mis not JSON serializable\u001b[39m\u001b[38;5;124m'\u001b[39m)\n",
      "\u001b[1;31mTypeError\u001b[0m: Object of type DataFrame is not JSON serializable"
     ]
    }
   ],
   "source": [
    "data_xxxxx = list(full_analysis_xxxxx)\n",
    "with open('full_analysis_xxxxx.json', 'w') as file:\n",
    "    json.dump(data_xxxxx, file)"
   ]
  },
  {
   "cell_type": "code",
   "execution_count": 89,
   "metadata": {},
   "outputs": [
    {
     "ename": "AttributeError",
     "evalue": "'DataFrame' object has no attribute '_fields'",
     "output_type": "error",
     "traceback": [
      "\u001b[1;31m---------------------------------------------------------------------------\u001b[0m",
      "\u001b[1;31mAttributeError\u001b[0m                            Traceback (most recent call last)",
      "\u001b[1;32m~\\AppData\\Local\\Temp\\ipykernel_42008\\3492489969.py\u001b[0m in \u001b[0;36m?\u001b[1;34m()\u001b[0m\n\u001b[0;32m      1\u001b[0m \u001b[1;32mfrom\u001b[0m \u001b[0mcollections\u001b[0m \u001b[1;32mimport\u001b[0m \u001b[0mnamedtuple\u001b[0m\u001b[1;33m\u001b[0m\u001b[1;33m\u001b[0m\u001b[0m\n\u001b[0;32m      2\u001b[0m \u001b[1;33m\u001b[0m\u001b[0m\n\u001b[0;32m      3\u001b[0m \u001b[1;31m# For the first namedtuple in the tuple:\u001b[0m\u001b[1;33m\u001b[0m\u001b[1;33m\u001b[0m\u001b[0m\n\u001b[1;32m----> 4\u001b[1;33m \u001b[0mheaders\u001b[0m \u001b[1;33m=\u001b[0m \u001b[0mfull_analysis_xxxxx\u001b[0m\u001b[1;33m[\u001b[0m\u001b[1;36m0\u001b[0m\u001b[1;33m]\u001b[0m\u001b[1;33m.\u001b[0m\u001b[0m_fields\u001b[0m\u001b[1;33m\u001b[0m\u001b[1;33m\u001b[0m\u001b[0m\n\u001b[0m\u001b[0;32m      5\u001b[0m \u001b[0mdf\u001b[0m \u001b[1;33m=\u001b[0m \u001b[0mpd\u001b[0m\u001b[1;33m.\u001b[0m\u001b[0mDataFrame\u001b[0m\u001b[1;33m(\u001b[0m\u001b[0mfull_analysis_xxxxx\u001b[0m\u001b[1;33m,\u001b[0m \u001b[0mcolumns\u001b[0m\u001b[1;33m=\u001b[0m\u001b[0mheaders\u001b[0m\u001b[1;33m)\u001b[0m\u001b[1;33m\u001b[0m\u001b[1;33m\u001b[0m\u001b[0m\n",
      "\u001b[1;32mc:\\Users\\JBA33\\AppData\\Local\\Programs\\Python\\Python312\\Lib\\site-packages\\pandas\\core\\generic.py\u001b[0m in \u001b[0;36m?\u001b[1;34m(self, name)\u001b[0m\n\u001b[0;32m   6289\u001b[0m             \u001b[1;32mand\u001b[0m \u001b[0mname\u001b[0m \u001b[1;32mnot\u001b[0m \u001b[1;32min\u001b[0m \u001b[0mself\u001b[0m\u001b[1;33m.\u001b[0m\u001b[0m_accessors\u001b[0m\u001b[1;33m\u001b[0m\u001b[1;33m\u001b[0m\u001b[0m\n\u001b[0;32m   6290\u001b[0m             \u001b[1;32mand\u001b[0m \u001b[0mself\u001b[0m\u001b[1;33m.\u001b[0m\u001b[0m_info_axis\u001b[0m\u001b[1;33m.\u001b[0m\u001b[0m_can_hold_identifiers_and_holds_name\u001b[0m\u001b[1;33m(\u001b[0m\u001b[0mname\u001b[0m\u001b[1;33m)\u001b[0m\u001b[1;33m\u001b[0m\u001b[1;33m\u001b[0m\u001b[0m\n\u001b[0;32m   6291\u001b[0m         \u001b[1;33m)\u001b[0m\u001b[1;33m:\u001b[0m\u001b[1;33m\u001b[0m\u001b[1;33m\u001b[0m\u001b[0m\n\u001b[0;32m   6292\u001b[0m             \u001b[1;32mreturn\u001b[0m \u001b[0mself\u001b[0m\u001b[1;33m[\u001b[0m\u001b[0mname\u001b[0m\u001b[1;33m]\u001b[0m\u001b[1;33m\u001b[0m\u001b[1;33m\u001b[0m\u001b[0m\n\u001b[1;32m-> 6293\u001b[1;33m         \u001b[1;32mreturn\u001b[0m \u001b[0mobject\u001b[0m\u001b[1;33m.\u001b[0m\u001b[0m__getattribute__\u001b[0m\u001b[1;33m(\u001b[0m\u001b[0mself\u001b[0m\u001b[1;33m,\u001b[0m \u001b[0mname\u001b[0m\u001b[1;33m)\u001b[0m\u001b[1;33m\u001b[0m\u001b[1;33m\u001b[0m\u001b[0m\n\u001b[0m",
      "\u001b[1;31mAttributeError\u001b[0m: 'DataFrame' object has no attribute '_fields'"
     ]
    }
   ],
   "source": [
    "from collections import namedtuple\n",
    "\n",
    "# For the first namedtuple in the tuple:\n",
    "headers = full_analysis_xxxxx[0]._fields\n",
    "df = pd.DataFrame(full_analysis_xxxxx, columns=headers)"
   ]
  },
  {
   "cell_type": "code",
   "execution_count": null,
   "metadata": {},
   "outputs": [],
   "source": [
    "full_analysis_xxxxx_df = full_analysis_xxxxx[0]\n"
   ]
  },
  {
   "cell_type": "code",
   "execution_count": 92,
   "metadata": {},
   "outputs": [],
   "source": [
    "full_analysis_xxxxx_df.to_csv('full_analysis_xxxxx.csv', index=False)"
   ]
  }
 ],
 "metadata": {
  "kernelspec": {
   "display_name": "Python 3",
   "language": "python",
   "name": "python3"
  },
  "language_info": {
   "codemirror_mode": {
    "name": "ipython",
    "version": 3
   },
   "file_extension": ".py",
   "mimetype": "text/x-python",
   "name": "python",
   "nbconvert_exporter": "python",
   "pygments_lexer": "ipython3",
   "version": "3.12.1"
  }
 },
 "nbformat": 4,
 "nbformat_minor": 2
}
