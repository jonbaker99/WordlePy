{
 "cells": [
  {
   "cell_type": "code",
   "execution_count": null,
   "metadata": {},
   "outputs": [],
   "source": [
    "# 1. SELECT THE GUESS\n",
    "# 2. GENERATE THE COMBINATIONS\n",
    "# 3. GENERATE THE SETS\n",
    "# 4. GENERATE THE FROZEN SETS\n",
    "# 5. CHECK FROZEN SETS VS. CRITERIA AND FILTER\n",
    "# 6. RPT FOR EACH OF THE 4 TYPES OF SETS\n",
    "\n",
    "#7. NOW COMBINATIONS ARE DONE, COUNT NUMBER OF REMAINING COMBOS\n",
    "# 7. FOR EACH COMBINATION REMAINING, IDENTIFY HOW MANY WORDS IN CANDIDATES FIT THE CRITERIA"
   ]
  },
  {
   "cell_type": "code",
   "execution_count": 1,
   "metadata": {},
   "outputs": [],
   "source": [
    "%load_ext autoreload\n",
    "%autoreload 2\n",
    "import wordle_score_candidates as wsc\n"
   ]
  },
  {
   "cell_type": "code",
   "execution_count": 2,
   "metadata": {},
   "outputs": [],
   "source": [
    "# INPUTS\n",
    "\n",
    "guess = \"APPLE\"\n",
    "test_order = [\"In\", \"Out\", \"Known\", \"Not\"]\n",
    "wordle_json_path = \"wordle.json\"\n",
    "criteria = wsc.parse_wordle_json(wordle_json_path)\n",
    "\n",
    "# FUNCTION TO FILTER OUT WORDS THAT DON'T MATCH ALREADY KNOWN CRITERIA\n",
    "remaining_combos = wsc.test_combinations(guess, criteria, test_order)\n",
    "num_combos = len(remaining_combos)"
   ]
  },
  {
   "cell_type": "code",
   "execution_count": 3,
   "metadata": {},
   "outputs": [
    {
     "name": "stdout",
     "output_type": "stream",
     "text": [
      "Number of remaining combinations: 108\n"
     ]
    }
   ],
   "source": []
  }
 ],
 "metadata": {
  "kernelspec": {
   "display_name": "Python 3",
   "language": "python",
   "name": "python3"
  },
  "language_info": {
   "codemirror_mode": {
    "name": "ipython",
    "version": 3
   },
   "file_extension": ".py",
   "mimetype": "text/x-python",
   "name": "python",
   "nbconvert_exporter": "python",
   "pygments_lexer": "ipython3",
   "version": "3.11.9"
  }
 },
 "nbformat": 4,
 "nbformat_minor": 2
}
