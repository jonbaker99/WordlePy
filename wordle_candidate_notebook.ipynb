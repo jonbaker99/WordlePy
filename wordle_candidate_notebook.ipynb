{
 "cells": [
  {
   "cell_type": "code",
   "execution_count": 13,
   "metadata": {},
   "outputs": [
    {
     "name": "stdout",
     "output_type": "stream",
     "text": [
      "The autoreload extension is already loaded. To reload it, use:\n",
      "  %reload_ext autoreload\n"
     ]
    }
   ],
   "source": [
    "%load_ext autoreload\n",
    "%autoreload 2\n",
    "\n",
    "import wordle_candidates as wc, wordle_tests as wt, pandas as pd\n",
    "from itertools import combinations, product\n",
    "import importlib"
   ]
  },
  {
   "cell_type": "code",
   "execution_count": 39,
   "metadata": {},
   "outputs": [
    {
     "name": "stdout",
     "output_type": "stream",
     "text": [
      "The autoreload extension is already loaded. To reload it, use:\n",
      "  %reload_ext autoreload\n"
     ]
    }
   ],
   "source": [
    "%load_ext autoreload\n",
    "%autoreload 2\n",
    "import wordle_score_candidates as wsc\n",
    "test_order = [\"Known\", \"Not\", \"In\", \"Out\"]\n",
    "wordle_json_path = \"wordle.json\"\n",
    "criteria = wsc.parse_wordle_json(wordle_json_path)"
   ]
  },
  {
   "cell_type": "code",
   "execution_count": 14,
   "metadata": {},
   "outputs": [],
   "source": [
    "# LOAD INITIAL WORD LIST\n",
    "word_list = pd.read_csv(\"word_list.csv\")"
   ]
  },
  {
   "cell_type": "code",
   "execution_count": 131,
   "metadata": {},
   "outputs": [
    {
     "name": "stdout",
     "output_type": "stream",
     "text": [
      "wordle.json has been reset.\n"
     ]
    }
   ],
   "source": [
    "wc.reset_wordle_json('wordle.json')\n",
    "candidates = None\n",
    "combos = None\n",
    "results2 = None\n",
    "best = None\n",
    "all_letters = None\n",
    "all_letters_string = None\n",
    "best_letters = None\n",
    "best_words_all = None\n",
    "filtered_combos = None\n",
    "inputs = None\n",
    "temp = None\n",
    "criteria = None\n",
    "guess = None\n",
    "guess_score_df_candidates = None\n",
    "guess_score_df_wordlist = None\n",
    "guesses = None\n",
    "max_combination = None\n",
    "max_non_zero_count = None\n",
    "non_zero_combinations = None\n",
    "num_combos = None\n",
    "num_non_zero_combinations = None\n",
    "results = None\n",
    "words = None\n",
    "words_from_candidates = None\n",
    "words_from_wordlist = None\n",
    "remaining_combos = None\n",
    "\n",
    "\n",
    "\n"
   ]
  },
  {
   "cell_type": "code",
   "execution_count": null,
   "metadata": {},
   "outputs": [],
   "source": [
    "importlib.reload(wc)\n",
    "importlib.reload(wt)"
   ]
  },
  {
   "cell_type": "code",
   "execution_count": 136,
   "metadata": {},
   "outputs": [
    {
     "name": "stdout",
     "output_type": "stream",
     "text": [
      "DEO\n",
      "5\n"
     ]
    },
    {
     "data": {
      "text/html": [
       "<div>\n",
       "<style scoped>\n",
       "    .dataframe tbody tr th:only-of-type {\n",
       "        vertical-align: middle;\n",
       "    }\n",
       "\n",
       "    .dataframe tbody tr th {\n",
       "        vertical-align: top;\n",
       "    }\n",
       "\n",
       "    .dataframe thead th {\n",
       "        text-align: right;\n",
       "    }\n",
       "</style>\n",
       "<table border=\"1\" class=\"dataframe\">\n",
       "  <thead>\n",
       "    <tr style=\"text-align: right;\">\n",
       "      <th></th>\n",
       "      <th>WORD</th>\n",
       "    </tr>\n",
       "  </thead>\n",
       "  <tbody>\n",
       "    <tr>\n",
       "      <th>3397</th>\n",
       "      <td>ENDOW</td>\n",
       "    </tr>\n",
       "    <tr>\n",
       "      <th>3435</th>\n",
       "      <td>EPODE</td>\n",
       "    </tr>\n",
       "    <tr>\n",
       "      <th>3535</th>\n",
       "      <td>EXODE</td>\n",
       "    </tr>\n",
       "    <tr>\n",
       "      <th>7665</th>\n",
       "      <td>ODEON</td>\n",
       "    </tr>\n",
       "    <tr>\n",
       "      <th>7666</th>\n",
       "      <td>ODEUM</td>\n",
       "    </tr>\n",
       "  </tbody>\n",
       "</table>\n",
       "</div>"
      ],
      "text/plain": [
       "       WORD\n",
       "3397  ENDOW\n",
       "3435  EPODE\n",
       "3535  EXODE\n",
       "7665  ODEON\n",
       "7666  ODEUM"
      ]
     },
     "execution_count": 136,
     "metadata": {},
     "output_type": "execute_result"
    }
   ],
   "source": [
    "inputs = wc.load_wordle_inputs(\"wordle.json\")\n",
    "candidates = wc.wordle_filter(inputs, word_list)\n",
    "print(len(candidates))\n",
    "candidates"
   ]
  },
  {
   "cell_type": "code",
   "execution_count": 137,
   "metadata": {},
   "outputs": [
    {
     "name": "stdout",
     "output_type": "stream",
     "text": [
      "\n",
      "5\n"
     ]
    }
   ],
   "source": [
    "restrict_to_candidates = True\n",
    "all_letters = wc.letters_in_candidates(candidates,inputs)\n",
    "all_letters_string = ''.join(all_letters)\n",
    "combo_n = 0\n",
    "combos = wt.get_n_letter_combinations(all_letters_string,combo_n)\n",
    "\n",
    "\n",
    "words = candidates['WORD'] if restrict_to_candidates else word_list['WORD']\n",
    "\n",
    "filtered_combos = wt.filter_combos(words, combos)\n",
    "results2 = wt.process_binary_combos_with_optimised_counting(filtered_combos,candidates['WORD'])\n",
    "best = wt.find_lowest_non_zero_max(results2)\n",
    "print(best[0])\n",
    "print(best[1])\n",
    "#wc.filter_list_for_chosen_letters(candidates['WORD'],best[0])"
   ]
  },
  {
   "cell_type": "code",
   "execution_count": 138,
   "metadata": {},
   "outputs": [
    {
     "name": "stdout",
     "output_type": "stream",
     "text": [
      "\n",
      "Ranked Words from candidates:\n",
      "   Guess  Max Matching Words Count\n",
      "0  ENDOW                         2\n",
      "1  EPODE                         2\n",
      "2  EXODE                         2\n",
      "3  ODEON                         2\n",
      "4  ODEUM                         3\n"
     ]
    }
   ],
   "source": [
    "\n",
    "if not restrict_to_candidates :\n",
    "    words_from_wordlist = wc.filter_list_for_chosen_letters(word_list,best[0]).copy()\n",
    "    #words_from_wordlist['new_letters'] = words_from_wordlist['WORD'].apply(lambda word: len(set(word) - set(inputs['exclusions']))) \n",
    "    # print(\"\\nWords from whole list:\")\n",
    "    # print(words_from_wordlist.sort_values(by='new_letters',ascending=False))\n",
    "\n",
    "    if len(words_from_wordlist) > 0 :\n",
    "        guesses = words_from_wordlist['WORD']\n",
    "        guess_score_df_wordlist  = wsc.get_max_non_zero_matches(guesses, candidates)\n",
    "        print(\"\\nRanked words from whole list:\")\n",
    "        print(guess_score_df_wordlist.head(10))\n",
    "    else: print(\"no scored guesses from wordlist\")\n",
    "\n",
    "else : words_from_wordlist = None\n",
    "\n",
    "words_from_candidates = wc.filter_list_for_chosen_letters(candidates,best[0]).copy()\n",
    "#words_from_candidates['new_letters'] = words_from_candidates['WORD'].apply(lambda word: len(set(word) - set(inputs['exclusions']))) \n",
    "# print(\"\\nWords from candidates:\")\n",
    "# print(words_from_candidates.sort_values(by='new_letters',ascending=False))\n",
    "\n",
    "if len(words_from_candidates) > 0:\n",
    "    guesses = words_from_candidates['WORD']\n",
    "    guess_score_df_candidates  = wsc.get_max_non_zero_matches(guesses, candidates)\n",
    "    print(\"\\nRanked Words from candidates:\")\n",
    "    print(guess_score_df_candidates.head(10))\n",
    "else: print(\"\\nno ranked words from candidates\")\n",
    "\n"
   ]
  },
  {
   "cell_type": "code",
   "execution_count": null,
   "metadata": {},
   "outputs": [
    {
     "data": {
      "text/html": [
       "<div>\n",
       "<style scoped>\n",
       "    .dataframe tbody tr th:only-of-type {\n",
       "        vertical-align: middle;\n",
       "    }\n",
       "\n",
       "    .dataframe tbody tr th {\n",
       "        vertical-align: top;\n",
       "    }\n",
       "\n",
       "    .dataframe thead th {\n",
       "        text-align: right;\n",
       "    }\n",
       "</style>\n",
       "<table border=\"1\" class=\"dataframe\">\n",
       "  <thead>\n",
       "    <tr style=\"text-align: right;\">\n",
       "      <th></th>\n",
       "      <th>Guess</th>\n",
       "      <th>Max Matching Words Count</th>\n",
       "    </tr>\n",
       "  </thead>\n",
       "  <tbody>\n",
       "    <tr>\n",
       "      <th>0</th>\n",
       "      <td>PRISM</td>\n",
       "      <td>3</td>\n",
       "    </tr>\n",
       "  </tbody>\n",
       "</table>\n",
       "</div>"
      ],
      "text/plain": [
       "   Guess  Max Matching Words Count\n",
       "0  PRISM                         3"
      ]
     },
     "execution_count": 66,
     "metadata": {},
     "output_type": "execute_result"
    }
   ],
   "source": []
  },
  {
   "cell_type": "code",
   "execution_count": null,
   "metadata": {},
   "outputs": [],
   "source": [
    "# ONE WORD SCORING IS BELOW HERE "
   ]
  },
  {
   "cell_type": "code",
   "execution_count": 36,
   "metadata": {},
   "outputs": [
    {
     "data": {
      "text/plain": [
       "243"
      ]
     },
     "execution_count": 36,
     "metadata": {},
     "output_type": "execute_result"
    }
   ],
   "source": [
    "# INPUTS\n",
    "\n",
    "guess = \"BRINK\"\n",
    "\n",
    "\n",
    "# FUNCTION TO FILTER OUT WORDS THAT DON'T MATCH ALREADY KNOWN CRITERIA\n",
    "remaining_combos = wsc.test_combinations(guess, criteria, test_order)\n",
    "num_combos = len(remaining_combos)\n",
    "num_combos"
   ]
  },
  {
   "cell_type": "code",
   "execution_count": 37,
   "metadata": {},
   "outputs": [],
   "source": [
    "candidates_by_combo = wsc.fast_count_matching_words(remaining_combos, candidates)"
   ]
  },
  {
   "cell_type": "code",
   "execution_count": 38,
   "metadata": {},
   "outputs": [
    {
     "name": "stdout",
     "output_type": "stream",
     "text": [
      "Number of combinations with non-zero matching_words_count: 35\n",
      "Maximum non-zero matching_words_count: 52\n",
      "Combination with the max matching_words_count: ('X', 'G', 'G', 'X', 'X')\n"
     ]
    }
   ],
   "source": [
    "\n",
    "# Number of combinations with non-zero matching_words_count\n",
    "non_zero_combinations = [result for result in candidates_by_combo if result[\"matching_words_count\"] > 0]\n",
    "num_non_zero_combinations = len(non_zero_combinations)\n",
    "\n",
    "# Maximum non-zero matching_words_count and the associated combination\n",
    "max_result = max(non_zero_combinations, key=lambda x: x[\"matching_words_count\"], default=None)\n",
    "\n",
    "if max_result:\n",
    "    max_non_zero_count = max_result[\"matching_words_count\"]\n",
    "    max_combination = max_result[\"combination\"]\n",
    "else:\n",
    "    max_non_zero_count = 0\n",
    "    max_combination = None\n",
    "\n",
    "# Output the results\n",
    "print(f\"Number of combinations with non-zero matching_words_count: {num_non_zero_combinations}\")\n",
    "print(f\"Maximum non-zero matching_words_count: {max_non_zero_count}\")\n",
    "print(f\"Combination with the max matching_words_count: {max_combination}\")\n"
   ]
  },
  {
   "cell_type": "code",
   "execution_count": null,
   "metadata": {},
   "outputs": [],
   "source": []
  },
  {
   "cell_type": "code",
   "execution_count": null,
   "metadata": {},
   "outputs": [],
   "source": []
  }
 ],
 "metadata": {
  "kernelspec": {
   "display_name": "Python 3",
   "language": "python",
   "name": "python3"
  },
  "language_info": {
   "codemirror_mode": {
    "name": "ipython",
    "version": 3
   },
   "file_extension": ".py",
   "mimetype": "text/x-python",
   "name": "python",
   "nbconvert_exporter": "python",
   "pygments_lexer": "ipython3",
   "version": "3.11.9"
  }
 },
 "nbformat": 4,
 "nbformat_minor": 2
}
