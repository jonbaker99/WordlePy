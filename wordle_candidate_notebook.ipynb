{
 "cells": [
  {
   "cell_type": "code",
   "execution_count": 1,
   "metadata": {},
   "outputs": [],
   "source": [
    "%load_ext autoreload\n",
    "%autoreload 2\n",
    "\n",
    "import wordle_candidates as wc, wordle_tests as wt, pandas as pd\n",
    "from itertools import combinations, product\n",
    "import importlib"
   ]
  },
  {
   "cell_type": "code",
   "execution_count": 2,
   "metadata": {},
   "outputs": [],
   "source": [
    "# LOAD INITIAL WORD LIST\n",
    "word_list = pd.read_csv(\"word_list.csv\")"
   ]
  },
  {
   "cell_type": "code",
   "execution_count": 11,
   "metadata": {},
   "outputs": [
    {
     "name": "stdout",
     "output_type": "stream",
     "text": [
      "wordle.json has been reset.\n"
     ]
    }
   ],
   "source": [
    "wc.reset_wordle_json('wordle.json')\n",
    "candidates = None\n",
    "combos = None\n",
    "results2 = None\n",
    "best = None\n",
    "all_letters = None\n",
    "all_letters_string = None\n",
    "best_letters = None\n",
    "best_words_all = None\n",
    "filtered_combos = None\n",
    "inputs = None\n",
    "temp = None\n",
    "\n"
   ]
  },
  {
   "cell_type": "code",
   "execution_count": null,
   "metadata": {},
   "outputs": [],
   "source": [
    "importlib.reload(wc)\n",
    "importlib.reload(wt)"
   ]
  },
  {
   "cell_type": "code",
   "execution_count": 10,
   "metadata": {},
   "outputs": [
    {
     "name": "stdout",
     "output_type": "stream",
     "text": [
      "EPR\n",
      "1\n"
     ]
    },
    {
     "data": {
      "text/html": [
       "<div>\n",
       "<style scoped>\n",
       "    .dataframe tbody tr th:only-of-type {\n",
       "        vertical-align: middle;\n",
       "    }\n",
       "\n",
       "    .dataframe tbody tr th {\n",
       "        vertical-align: top;\n",
       "    }\n",
       "\n",
       "    .dataframe thead th {\n",
       "        text-align: right;\n",
       "    }\n",
       "</style>\n",
       "<table border=\"1\" class=\"dataframe\">\n",
       "  <thead>\n",
       "    <tr style=\"text-align: right;\">\n",
       "      <th></th>\n",
       "      <th>WORD</th>\n",
       "    </tr>\n",
       "  </thead>\n",
       "  <tbody>\n",
       "    <tr>\n",
       "      <th>2396</th>\n",
       "      <td>CREPE</td>\n",
       "    </tr>\n",
       "  </tbody>\n",
       "</table>\n",
       "</div>"
      ],
      "text/plain": [
       "       WORD\n",
       "2396  CREPE"
      ]
     },
     "execution_count": 10,
     "metadata": {},
     "output_type": "execute_result"
    }
   ],
   "source": [
    "inputs = wc.load_wordle_inputs(\"wordle.json\")\n",
    "candidates = wc.wordle_filter(inputs, word_list)\n",
    "print(len(candidates))\n",
    "candidates"
   ]
  },
  {
   "cell_type": "code",
   "execution_count": 8,
   "metadata": {},
   "outputs": [
    {
     "name": "stdout",
     "output_type": "stream",
     "text": [
      "YPK\n",
      "24\n"
     ]
    }
   ],
   "source": [
    "\n",
    "restrict_to_candidates = True\n",
    "all_letters = wc.letters_in_candidates(candidates,inputs)\n",
    "all_letters_string = ''.join(all_letters)\n",
    "combo_n = 3\n",
    "combos = wt.get_n_letter_combinations(all_letters_string,combo_n)\n",
    "\n",
    "\n",
    "words = candidates['WORD'] if restrict_to_candidates else word_list['WORD']\n",
    "\n",
    "filtered_combos = wt.filter_combos(words, combos)\n",
    "results2 = wt.process_binary_combos_with_optimised_counting(filtered_combos,candidates['WORD'])\n",
    "best = wt.find_lowest_non_zero_max(results2)\n",
    "print(best[0])\n",
    "print(best[1])\n",
    "#wc.filter_list_for_chosen_letters(candidates['WORD'],best[0])"
   ]
  },
  {
   "cell_type": "code",
   "execution_count": 9,
   "metadata": {},
   "outputs": [
    {
     "name": "stdout",
     "output_type": "stream",
     "text": [
      "\n",
      "Words from candidates:\n",
      "       WORD  new_letters\n",
      "8136  PERKY            5\n"
     ]
    }
   ],
   "source": [
    "\n",
    "if not restrict_to_candidates :\n",
    "    words_from_wordlist = wc.filter_list_for_chosen_letters(word_list,best[0]).copy()\n",
    "    words_from_wordlist['new_letters'] = words_from_wordlist['WORD'].apply(lambda word: len(set(word) - set(inputs['exclusions']))) \n",
    "    print(\"\\nWords from whole list:\")\n",
    "    print(words_from_wordlist.sort_values(by='new_letters',ascending=False))\n",
    "else : words_from_wordlist = None\n",
    "\n",
    "words_from_candidates = wc.filter_list_for_chosen_letters(candidates,best[0]).copy()\n",
    "words_from_candidates['new_letters'] = words_from_candidates['WORD'].apply(lambda word: len(set(word) - set(inputs['exclusions']))) \n",
    "print(\"\\nWords from candidates:\")\n",
    "print(words_from_candidates.sort_values(by='new_letters',ascending=False))\n"
   ]
  },
  {
   "cell_type": "code",
   "execution_count": null,
   "metadata": {},
   "outputs": [],
   "source": [
    "#wc.filter_list_for_chosen_letters(candidates,best[0])\n",
    "\n"
   ]
  },
  {
   "cell_type": "code",
   "execution_count": 57,
   "metadata": {},
   "outputs": [],
   "source": [
    "best_letters = wc.most_common_letters(candidates,inputs)\n",
    "best_letters_letters = best_letters['Letter'].str.cat(sep='')\n",
    "best_words_all = wc.rank_words_by_letters_dumb(word_list,best_letters_letters)\n",
    "best_words_candidates = wc.rank_words_by_letters_dumb(candidates,best_letters_letters)"
   ]
  },
  {
   "cell_type": "code",
   "execution_count": null,
   "metadata": {},
   "outputs": [],
   "source": [
    "candidates"
   ]
  },
  {
   "cell_type": "code",
   "execution_count": null,
   "metadata": {},
   "outputs": [],
   "source": [
    "wc.filter_list_for_chosen_letters(word_list,\"FCM\")"
   ]
  },
  {
   "cell_type": "code",
   "execution_count": null,
   "metadata": {},
   "outputs": [],
   "source": [
    "import json\n",
    "\n",
    "# Load JSON file\n",
    "with open(\"wordle.json\", \"r\") as file:\n",
    "    inputs = json.load(file)\n",
    "\n",
    "print(type(inputs['exclusions']))  # Should print <class 'dict'>\n",
    "\n"
   ]
  },
  {
   "cell_type": "code",
   "execution_count": null,
   "metadata": {},
   "outputs": [],
   "source": [
    "\n",
    "inputs = wc.load_wordle_inputs(\"wordle.json\")\n",
    "print(type(inputs))\n",
    "print(type(inputs['exclusions']))"
   ]
  },
  {
   "cell_type": "code",
   "execution_count": null,
   "metadata": {},
   "outputs": [],
   "source": [
    "set(\"\".join(inputs['exclusions'].values()))"
   ]
  }
 ],
 "metadata": {
  "kernelspec": {
   "display_name": "Python 3",
   "language": "python",
   "name": "python3"
  },
  "language_info": {
   "codemirror_mode": {
    "name": "ipython",
    "version": 3
   },
   "file_extension": ".py",
   "mimetype": "text/x-python",
   "name": "python",
   "nbconvert_exporter": "python",
   "pygments_lexer": "ipython3",
   "version": "3.11.9"
  }
 },
 "nbformat": 4,
 "nbformat_minor": 2
}
