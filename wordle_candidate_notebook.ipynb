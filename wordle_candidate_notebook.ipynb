{
 "cells": [
  {
   "cell_type": "code",
   "execution_count": 2,
   "metadata": {},
   "outputs": [],
   "source": [
    "%load_ext autoreload\n",
    "%autoreload 2\n",
    "\n",
    "import wordle_candidates as wc, wordle_tests as wt, pandas as pd\n",
    "from itertools import combinations, product\n",
    "import importlib\n",
    "\n",
    "# Load word_list from word_list.csv\n",
    "word_list = pd.read_csv('word_list.csv')   "
   ]
  },
  {
   "cell_type": "code",
   "execution_count": 3,
   "metadata": {},
   "outputs": [
    {
     "name": "stdout",
     "output_type": "stream",
     "text": [
      "wordle.json has been reset.\n"
     ]
    }
   ],
   "source": [
    "wc.reset_wordle_json('wordle.json')\n",
    "candidates = None\n",
    "combos = None\n",
    "results2 = None\n",
    "best = None\n",
    "all_letters = None\n",
    "all_letters_string = None\n",
    "best_letters = None\n",
    "best_words_all = None\n",
    "filtered_combos = None\n",
    "inputs = None\n",
    "temp = None\n",
    "\n"
   ]
  },
  {
   "cell_type": "code",
   "execution_count": 4,
   "metadata": {},
   "outputs": [
    {
     "data": {
      "text/plain": [
       "<module 'wordle_tests' from 'c:\\\\Users\\\\jonba\\\\OneDrive\\\\Documents\\\\projects\\\\wordle\\\\WordlePy\\\\wordle_tests.py'>"
      ]
     },
     "execution_count": 4,
     "metadata": {},
     "output_type": "execute_result"
    }
   ],
   "source": [
    "importlib.reload(wc)\n",
    "importlib.reload(wt)"
   ]
  },
  {
   "cell_type": "code",
   "execution_count": 22,
   "metadata": {},
   "outputs": [
    {
     "name": "stdout",
     "output_type": "stream",
     "text": [
      "3\n"
     ]
    },
    {
     "data": {
      "text/html": [
       "<div>\n",
       "<style scoped>\n",
       "    .dataframe tbody tr th:only-of-type {\n",
       "        vertical-align: middle;\n",
       "    }\n",
       "\n",
       "    .dataframe tbody tr th {\n",
       "        vertical-align: top;\n",
       "    }\n",
       "\n",
       "    .dataframe thead th {\n",
       "        text-align: right;\n",
       "    }\n",
       "</style>\n",
       "<table border=\"1\" class=\"dataframe\">\n",
       "  <thead>\n",
       "    <tr style=\"text-align: right;\">\n",
       "      <th></th>\n",
       "      <th>WORD</th>\n",
       "    </tr>\n",
       "  </thead>\n",
       "  <tbody>\n",
       "    <tr>\n",
       "      <th>1378</th>\n",
       "      <td>BOWER</td>\n",
       "    </tr>\n",
       "    <tr>\n",
       "      <th>8501</th>\n",
       "      <td>POWER</td>\n",
       "    </tr>\n",
       "    <tr>\n",
       "      <th>9359</th>\n",
       "      <td>ROWER</td>\n",
       "    </tr>\n",
       "  </tbody>\n",
       "</table>\n",
       "</div>"
      ],
      "text/plain": [
       "       WORD\n",
       "1378  BOWER\n",
       "8501  POWER\n",
       "9359  ROWER"
      ]
     },
     "execution_count": 22,
     "metadata": {},
     "output_type": "execute_result"
    }
   ],
   "source": [
    "inputs = wc.load_wordle_inputs(\"wordle.json\")\n",
    "candidates = wc.wordle_filter(inputs, word_list)\n",
    "print(len(candidates))\n",
    "candidates"
   ]
  },
  {
   "cell_type": "code",
   "execution_count": 24,
   "metadata": {},
   "outputs": [
    {
     "name": "stdout",
     "output_type": "stream",
     "text": [
      "PB\n",
      "1\n"
     ]
    }
   ],
   "source": [
    "\n",
    "restrict_to_candidates = False\n",
    "all_letters = wc.letters_in_candidates(candidates,inputs)\n",
    "all_letters_string = ''.join(all_letters)\n",
    "combo_n = 2\n",
    "combos = wt.get_n_letter_combinations(all_letters_string,combo_n)\n",
    "\n",
    "\n",
    "words = candidates['WORD'] if restrict_to_candidates else word_list['WORD']\n",
    "\n",
    "filtered_combos = wt.filter_combos(words, combos)\n",
    "results2 = wt.process_binary_combos_with_optimised_counting(filtered_combos,candidates['WORD'])\n",
    "best = wt.find_lowest_non_zero_max(results2)\n",
    "print(best[0])\n",
    "print(best[1])\n",
    "#wc.filter_list_for_chosen_letters(candidates['WORD'],best[0])"
   ]
  },
  {
   "cell_type": "code",
   "execution_count": 25,
   "metadata": {},
   "outputs": [
    {
     "name": "stdout",
     "output_type": "stream",
     "text": [
      "\n",
      "Words from whole list:\n",
      "        WORD  new_letters\n",
      "820    BAPUS            5\n",
      "843    BARPS            5\n",
      "925    BECAP            5\n",
      "1103   BIPED            5\n",
      "1047   BICEP            5\n",
      "989    BEPAT            5\n",
      "8625   PUBIS            5\n",
      "8989   REBOP            5\n",
      "8623   PUBES            5\n",
      "1104   BIPOD            5\n",
      "1176   BLIMP            5\n",
      "1184   BLIPS            5\n",
      "1249   BOEPS            5\n",
      "1225   BLYPE            5\n",
      "1603   BURPS            5\n",
      "1561   BUMPY            5\n",
      "1559   BUMPH            5\n",
      "1560   BUMPS            5\n",
      "8355   PLUMB            5\n",
      "8327   PLEBS            5\n",
      "8193   PIBAL            5\n",
      "8066   PEBAS            5\n",
      "11948  UPBOW            5\n",
      "11949  UPBYE            5\n",
      "8622   PUBCO            5\n",
      "8624   PUBIC            5\n",
      "8575   PROBE            5\n",
      "8411   POMBE            5\n",
      "8576   PROBS            5\n",
      "10     ABAMP            4\n",
      "938    BEEPS            4\n",
      "924    BEBOP            4\n",
      "1167   BLEEP            4\n",
      "1201   BLOOP            4\n",
      "1585   BUPPY            4\n",
      "1324   BOPPY            4\n",
      "8368   POBOY            4\n",
      "8326   PLEBE            4\n",
      "\n",
      "Words from candidates:\n",
      "Empty DataFrame\n",
      "Columns: [WORD, new_letters]\n",
      "Index: []\n"
     ]
    }
   ],
   "source": [
    "\n",
    "if not restrict_to_candidates :\n",
    "    words_from_wordlist = wc.filter_list_for_chosen_letters(word_list,best[0]).copy()\n",
    "    words_from_wordlist['new_letters'] = words_from_wordlist['WORD'].apply(lambda word: len(set(word) - set(inputs['exclusions']))) \n",
    "    print(\"\\nWords from whole list:\")\n",
    "    print(words_from_wordlist.sort_values(by='new_letters',ascending=False))\n",
    "else : words_from_wordlist = None\n",
    "\n",
    "words_from_candidates = wc.filter_list_for_chosen_letters(candidates,best[0]).copy()\n",
    "words_from_candidates['new_letters'] = words_from_candidates['WORD'].apply(lambda word: len(set(word) - set(inputs['exclusions']))) \n",
    "print(\"\\nWords from candidates:\")\n",
    "print(words_from_candidates.sort_values(by='new_letters',ascending=False))\n"
   ]
  },
  {
   "cell_type": "code",
   "execution_count": null,
   "metadata": {},
   "outputs": [],
   "source": [
    "#wc.filter_list_for_chosen_letters(candidates,best[0])\n",
    "\n"
   ]
  },
  {
   "cell_type": "code",
   "execution_count": 57,
   "metadata": {},
   "outputs": [],
   "source": [
    "best_letters = wc.most_common_letters(candidates,inputs)\n",
    "best_letters_letters = best_letters['Letter'].str.cat(sep='')\n",
    "best_words_all = wc.rank_words_by_letters_dumb(word_list,best_letters_letters)\n",
    "best_words_candidates = wc.rank_words_by_letters_dumb(candidates,best_letters_letters)"
   ]
  },
  {
   "cell_type": "code",
   "execution_count": null,
   "metadata": {},
   "outputs": [],
   "source": [
    "candidates"
   ]
  },
  {
   "cell_type": "code",
   "execution_count": null,
   "metadata": {},
   "outputs": [],
   "source": [
    "wc.filter_list_for_chosen_letters(word_list,\"FCM\")"
   ]
  },
  {
   "cell_type": "code",
   "execution_count": null,
   "metadata": {},
   "outputs": [],
   "source": [
    "import json\n",
    "\n",
    "# Load JSON file\n",
    "with open(\"wordle.json\", \"r\") as file:\n",
    "    inputs = json.load(file)\n",
    "\n",
    "print(type(inputs['exclusions']))  # Should print <class 'dict'>\n",
    "\n"
   ]
  },
  {
   "cell_type": "code",
   "execution_count": null,
   "metadata": {},
   "outputs": [],
   "source": [
    "\n",
    "inputs = wc.load_wordle_inputs(\"wordle.json\")\n",
    "print(type(inputs))\n",
    "print(type(inputs['exclusions']))"
   ]
  },
  {
   "cell_type": "code",
   "execution_count": 55,
   "metadata": {},
   "outputs": [
    {
     "data": {
      "text/plain": [
       "{'I', 'L'}"
      ]
     },
     "execution_count": 55,
     "metadata": {},
     "output_type": "execute_result"
    }
   ],
   "source": [
    "set(\"\".join(inputs['exclusions'].values()))"
   ]
  }
 ],
 "metadata": {
  "kernelspec": {
   "display_name": "Python 3",
   "language": "python",
   "name": "python3"
  },
  "language_info": {
   "codemirror_mode": {
    "name": "ipython",
    "version": 3
   },
   "file_extension": ".py",
   "mimetype": "text/x-python",
   "name": "python",
   "nbconvert_exporter": "python",
   "pygments_lexer": "ipython3",
   "version": "3.11.9"
  }
 },
 "nbformat": 4,
 "nbformat_minor": 2
}
