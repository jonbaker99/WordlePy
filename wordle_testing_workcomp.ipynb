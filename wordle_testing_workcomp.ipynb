{
 "cells": [
  {
   "cell_type": "code",
   "execution_count": 1,
   "metadata": {},
   "outputs": [],
   "source": [
    "%load_ext autoreload\n",
    "%autoreload 2\n",
    "\n",
    "import pandas as pd, wordle_candidates as wc\n",
    "from itertools import combinations, product\n",
    "import importlib\n",
    "\n",
    "\n",
    "\n",
    "\n"
   ]
  },
  {
   "cell_type": "code",
   "execution_count": 6,
   "metadata": {},
   "outputs": [
    {
     "data": {
      "text/plain": [
       "<module 'wordle_tests' from 'c:\\\\Users\\\\JBA33\\\\OneDrive - Sky\\\\Documents\\\\python\\\\wordle\\\\wordle_tests.py'>"
      ]
     },
     "execution_count": 6,
     "metadata": {},
     "output_type": "execute_result"
    }
   ],
   "source": [
    "#importlib.reload(wt)"
   ]
  },
  {
   "cell_type": "code",
   "execution_count": 4,
   "metadata": {},
   "outputs": [
    {
     "name": "stdout",
     "output_type": "stream",
     "text": [
      "Combination 1: ('X', 'X', 'X', 'X', 'X')\n",
      "  In: set()\n",
      "  Out: {'p', 'e', 'l', 'a'}\n",
      "  Known: {}\n",
      "  Not: {0: ['a'], 1: ['p'], 2: ['p'], 3: ['l'], 4: ['e']}\n",
      "\n",
      "Combination 2: ('X', 'X', 'X', 'X', 'A')\n",
      "  In: {'e'}\n",
      "  Out: {'p', 'l', 'a'}\n",
      "  Known: {}\n",
      "  Not: {0: ['a'], 1: ['p'], 2: ['p'], 3: ['l'], 4: ['e']}\n",
      "\n",
      "Combination 3: ('X', 'X', 'X', 'X', 'G')\n",
      "  In: {'e'}\n",
      "  Out: {'p', 'l', 'a'}\n",
      "  Known: {4: 'e'}\n",
      "  Not: {0: ['a'], 1: ['p'], 2: ['p'], 3: ['l']}\n",
      "\n",
      "Combination 4: ('X', 'X', 'X', 'A', 'X')\n",
      "  In: {'l'}\n",
      "  Out: {'p', 'e', 'a'}\n",
      "  Known: {}\n",
      "  Not: {0: ['a'], 1: ['p'], 2: ['p'], 3: ['l'], 4: ['e']}\n",
      "\n",
      "Combination 5: ('X', 'X', 'X', 'A', 'A')\n",
      "  In: {'e', 'l'}\n",
      "  Out: {'p', 'a'}\n",
      "  Known: {}\n",
      "  Not: {0: ['a'], 1: ['p'], 2: ['p'], 3: ['l'], 4: ['e']}\n",
      "\n"
     ]
    }
   ],
   "source": [
    "import itertools\n",
    "from collections import defaultdict\n",
    "\n",
    "# Step 1: Generate all possible combinations of states\n",
    "def generate_combinations():\n",
    "    states = ['X', 'A', 'G']\n",
    "    return list(itertools.product(states, repeat=5))\n",
    "\n",
    "# Step 2: Map each combination to constraints\n",
    "def map_to_constraints(guess, combination):\n",
    "    constraints = {\n",
    "        \"In\": set(),\n",
    "        \"Out\": set(),\n",
    "        \"Known\": defaultdict(str),  # Key: position, Value: letter\n",
    "        \"Not\": defaultdict(set),   # Key: position, Value: set of letters\n",
    "    }\n",
    "    \n",
    "    for i, (char, status) in enumerate(zip(guess, combination)):\n",
    "        if status == \"X\":\n",
    "            constraints[\"Out\"].add(char)\n",
    "            constraints[\"Not\"][i].add(char)  # Not allowed in this position\n",
    "        elif status == \"A\":\n",
    "            constraints[\"In\"].add(char)\n",
    "            constraints[\"Not\"][i].add(char)  # Cannot be in this position\n",
    "        elif status == \"G\":\n",
    "            constraints[\"In\"].add(char)\n",
    "            constraints[\"Known\"][i] = char  # Must be in this position\n",
    "    \n",
    "    return constraints\n",
    "\n",
    "# Store constraints for all combinations\n",
    "def get_all_constraints(guess):\n",
    "    combinations = generate_combinations()  # All 243 state combinations\n",
    "    all_constraints = []  # List to store constraints for each combination\n",
    "\n",
    "    for combination in combinations:\n",
    "        constraints = map_to_constraints(guess, combination)\n",
    "        all_constraints.append({\n",
    "            \"combination\": combination,\n",
    "            \"constraints\": {\n",
    "                \"In\": constraints[\"In\"],\n",
    "                \"Out\": constraints[\"Out\"],\n",
    "                \"Known\": dict(constraints[\"Known\"]),  # Convert defaultdict to dict for readability\n",
    "                \"Not\": {k: list(v) for k, v in constraints[\"Not\"].items()}  # Convert sets to lists for display\n",
    "            }\n",
    "        })\n",
    "\n",
    "    return all_constraints\n",
    "\n",
    "# Example Usage\n",
    "guess = \"apple\"\n",
    "all_constraints = get_all_constraints(guess)\n",
    "\n",
    "# Example: Print the first few results\n",
    "for i, entry in enumerate(all_constraints[:5]):  # Display the first 5 combinations\n",
    "    print(f\"Combination {i+1}: {entry['combination']}\")\n",
    "    print(f\"  In: {entry['constraints']['In']}\")\n",
    "    print(f\"  Out: {entry['constraints']['Out']}\")\n",
    "    print(f\"  Known: {entry['constraints']['Known']}\")\n",
    "    print(f\"  Not: {entry['constraints']['Not']}\")\n",
    "    print()"
   ]
  }
 ],
 "metadata": {
  "kernelspec": {
   "display_name": "Python 3",
   "language": "python",
   "name": "python3"
  },
  "language_info": {
   "codemirror_mode": {
    "name": "ipython",
    "version": 3
   },
   "file_extension": ".py",
   "mimetype": "text/x-python",
   "name": "python",
   "nbconvert_exporter": "python",
   "pygments_lexer": "ipython3",
   "version": "3.12.1"
  }
 },
 "nbformat": 4,
 "nbformat_minor": 2
}
