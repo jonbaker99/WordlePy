{
 "cells": [
  {
   "cell_type": "code",
   "execution_count": 1,
   "metadata": {},
   "outputs": [],
   "source": [
    "%load_ext autoreload\n",
    "%autoreload 2\n",
    "\n",
    "import pandas as pd, wordle_candidates as wc\n",
    "from itertools import combinations, product\n",
    "import importlib\n",
    "\n",
    "\n",
    "\n",
    "\n"
   ]
  },
  {
   "cell_type": "code",
   "execution_count": 6,
   "metadata": {},
   "outputs": [
    {
     "data": {
      "text/plain": [
       "<module 'wordle_tests' from 'c:\\\\Users\\\\JBA33\\\\OneDrive - Sky\\\\Documents\\\\python\\\\wordle\\\\wordle_tests.py'>"
      ]
     },
     "execution_count": 6,
     "metadata": {},
     "output_type": "execute_result"
    }
   ],
   "source": [
    "#importlib.reload(wt)"
   ]
  },
  {
   "cell_type": "code",
   "execution_count": 3,
   "metadata": {},
   "outputs": [
    {
     "name": "stdout",
     "output_type": "stream",
     "text": [
      "Example Combination: ('A', 'X', 'G', 'X', 'A')\n",
      "Constraints:\n",
      "In: {'p', 'e', 'a'}\n",
      "Out: {'p', 'l'}\n",
      "Known: {2: 'p'}\n",
      "Not: {0: ['a'], 1: ['p'], 3: ['l'], 4: ['e']}\n"
     ]
    }
   ],
   "source": [
    "import itertools\n",
    "from collections import defaultdict\n",
    "\n",
    "# Step 1: Generate all possible combinations of states\n",
    "def generate_combinations():\n",
    "    states = ['X', 'A', 'G']\n",
    "    return list(itertools.product(states, repeat=5))\n",
    "\n",
    "# Step 2: Map each combination to constraints\n",
    "def map_to_constraints(guess, combination):\n",
    "    constraints = {\n",
    "        \"In\": set(),\n",
    "        \"Out\": set(),\n",
    "        \"Known\": defaultdict(str),  # Key: position, Value: letter\n",
    "        \"Not\": defaultdict(set),   # Key: position, Value: set of letters\n",
    "    }\n",
    "    \n",
    "    for i, (char, status) in enumerate(zip(guess, combination)):\n",
    "        if status == \"X\":\n",
    "            constraints[\"Out\"].add(char)\n",
    "            constraints[\"Not\"][i].add(char)  # Not allowed in this position\n",
    "        elif status == \"A\":\n",
    "            constraints[\"In\"].add(char)\n",
    "            constraints[\"Not\"][i].add(char)  # Cannot be in this position\n",
    "        elif status == \"G\":\n",
    "            constraints[\"In\"].add(char)\n",
    "            constraints[\"Known\"][i] = char  # Must be in this position\n",
    "    \n",
    "    return constraints\n",
    "\n",
    "# Example Usage\n",
    "guess = \"apple\"  # Example guess word\n",
    "\n",
    "# Generate all state combinations\n",
    "combinations = generate_combinations()\n",
    "\n",
    "# Test with the first combination\n",
    "example_combination = combinations[100]  # Example: ('X', 'X', 'X', 'X', 'X')\n",
    "constraints = map_to_constraints(guess, example_combination)\n",
    "\n",
    "# Print the results\n",
    "print(\"Example Combination:\", example_combination)\n",
    "print(\"Constraints:\")\n",
    "print(\"In:\", constraints[\"In\"])\n",
    "print(\"Out:\", constraints[\"Out\"])\n",
    "print(\"Known:\", dict(constraints[\"Known\"]))  # Convert defaultdict to dict for display\n",
    "print(\"Not:\", {k: list(v) for k, v in constraints[\"Not\"].items()})  # Display as list"
   ]
  }
 ],
 "metadata": {
  "kernelspec": {
   "display_name": "Python 3",
   "language": "python",
   "name": "python3"
  },
  "language_info": {
   "codemirror_mode": {
    "name": "ipython",
    "version": 3
   },
   "file_extension": ".py",
   "mimetype": "text/x-python",
   "name": "python",
   "nbconvert_exporter": "python",
   "pygments_lexer": "ipython3",
   "version": "3.12.1"
  }
 },
 "nbformat": 4,
 "nbformat_minor": 2
}
