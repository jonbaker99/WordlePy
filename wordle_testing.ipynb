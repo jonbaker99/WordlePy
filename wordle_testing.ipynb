{
 "cells": [
  {
   "cell_type": "code",
   "execution_count": 1,
   "metadata": {},
   "outputs": [],
   "source": [
    "%load_ext autoreload\n",
    "%autoreload 2\n",
    "\n",
    "import wordle_candidates as wc, wordle_tests as wt, pandas as pd\n",
    "from itertools import combinations, product\n",
    "import importlib\n",
    "\n",
    "\n",
    "\n",
    "\n"
   ]
  },
  {
   "cell_type": "code",
   "execution_count": 6,
   "metadata": {},
   "outputs": [
    {
     "data": {
      "text/plain": [
       "<module 'wordle_tests' from 'c:\\\\Users\\\\JBA33\\\\OneDrive - Sky\\\\Documents\\\\python\\\\wordle\\\\wordle_tests.py'>"
      ]
     },
     "execution_count": 6,
     "metadata": {},
     "output_type": "execute_result"
    }
   ],
   "source": [
    "importlib.reload(wt)\n",
    "\n"
   ]
  },
  {
   "cell_type": "code",
   "execution_count": 5,
   "metadata": {},
   "outputs": [],
   "source": [
    "input_letters = \"ABCDEF\"\n",
    "combo_n = 3\n",
    "\n",
    "combos = wt.get_n_letter_combinations(input_letters,combo_n)\n",
    "\n",
    "\n",
    "# LOAD INITIAL WORD LIST\n",
    "word_list = pd.read_csv(\"word_list.csv\")\n",
    "\n"
   ]
  }
 ],
 "metadata": {
  "kernelspec": {
   "display_name": "Python 3",
   "language": "python",
   "name": "python3"
  },
  "language_info": {
   "codemirror_mode": {
    "name": "ipython",
    "version": 3
   },
   "file_extension": ".py",
   "mimetype": "text/x-python",
   "name": "python",
   "nbconvert_exporter": "python",
   "pygments_lexer": "ipython3",
   "version": "3.12.1"
  }
 },
 "nbformat": 4,
 "nbformat_minor": 2
}
